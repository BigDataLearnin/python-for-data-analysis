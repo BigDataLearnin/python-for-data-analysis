{
 "cells": [
  {
   "cell_type": "markdown",
   "metadata": {},
   "source": [
    "# NumPy Basics: Arrays and Vectorized Computation"
   ]
  },
  {
   "cell_type": "code",
   "execution_count": 6,
   "metadata": {
    "collapsed": true
   },
   "outputs": [],
   "source": [
    "%matplotlib inline"
   ]
  },
  {
   "cell_type": "code",
   "execution_count": 7,
   "metadata": {
    "collapsed": true
   },
   "outputs": [],
   "source": [
    "from __future__ import division\n",
    "from numpy.random import randn\n",
    "import numpy as np\n",
    "np.set_printoptions(precision=4, suppress=True)"
   ]
  },
  {
   "cell_type": "markdown",
   "metadata": {},
   "source": [
    "## The NumPy ndarray: a multidimensional array object"
   ]
  },
  {
   "cell_type": "code",
   "execution_count": 8,
   "metadata": {
    "collapsed": true
   },
   "outputs": [],
   "source": [
    "data = randn(2, 3)"
   ]
  },
  {
   "cell_type": "code",
   "execution_count": 9,
   "metadata": {},
   "outputs": [
    {
     "data": {
      "text/plain": [
       "array([[ 2.1381, -1.3456, -1.1592],\n",
       "       [-1.3832,  1.0918, -0.1297]])"
      ]
     },
     "execution_count": 9,
     "metadata": {},
     "output_type": "execute_result"
    }
   ],
   "source": [
    "data\n",
    "data * 10\n",
    "data + data"
   ]
  },
  {
   "cell_type": "code",
   "execution_count": 10,
   "metadata": {},
   "outputs": [
    {
     "data": {
      "text/plain": [
       "dtype('float64')"
      ]
     },
     "execution_count": 10,
     "metadata": {},
     "output_type": "execute_result"
    }
   ],
   "source": [
    "data.shape\n",
    "data.dtype"
   ]
  },
  {
   "cell_type": "markdown",
   "metadata": {},
   "source": [
    "### Creating ndarrays"
   ]
  },
  {
   "cell_type": "code",
   "execution_count": 11,
   "metadata": {},
   "outputs": [
    {
     "data": {
      "text/plain": [
       "array([ 6. ,  7.5,  8. ,  0. ,  1. ])"
      ]
     },
     "execution_count": 11,
     "metadata": {},
     "output_type": "execute_result"
    }
   ],
   "source": [
    "data1 = [6, 7.5, 8, 0, 1]\n",
    "arr1 = np.array(data1)\n",
    "arr1"
   ]
  },
  {
   "cell_type": "code",
   "execution_count": 12,
   "metadata": {},
   "outputs": [
    {
     "data": {
      "text/plain": [
       "(2, 4)"
      ]
     },
     "execution_count": 12,
     "metadata": {},
     "output_type": "execute_result"
    }
   ],
   "source": [
    "data2 = [[1, 2, 3, 4], [5, 6, 7, 8]]\n",
    "arr2 = np.array(data2)\n",
    "arr2\n",
    "arr2.ndim\n",
    "arr2.shape"
   ]
  },
  {
   "cell_type": "code",
   "execution_count": 13,
   "metadata": {},
   "outputs": [
    {
     "data": {
      "text/plain": [
       "dtype('int64')"
      ]
     },
     "execution_count": 13,
     "metadata": {},
     "output_type": "execute_result"
    }
   ],
   "source": [
    "arr1.dtype\n",
    "arr2.dtype"
   ]
  },
  {
   "cell_type": "code",
   "execution_count": 14,
   "metadata": {},
   "outputs": [
    {
     "data": {
      "text/plain": [
       "array([[[  2.3158e+077,   2.3158e+077],\n",
       "        [  2.9644e-323,   0.0000e+000],\n",
       "        [  2.1220e-314,   2.9297e-033]],\n",
       "\n",
       "       [[  4.7137e-090,   1.0483e+165],\n",
       "        [  8.4143e+164,   9.1427e-071],\n",
       "        [  3.9991e+252,   8.3874e-309]]])"
      ]
     },
     "execution_count": 14,
     "metadata": {},
     "output_type": "execute_result"
    }
   ],
   "source": [
    "np.zeros(10)\n",
    "np.zeros((3, 6))\n",
    "np.empty((2, 3, 2))"
   ]
  },
  {
   "cell_type": "code",
   "execution_count": 15,
   "metadata": {},
   "outputs": [
    {
     "data": {
      "text/plain": [
       "array([ 0,  1,  2,  3,  4,  5,  6,  7,  8,  9, 10, 11, 12, 13, 14])"
      ]
     },
     "execution_count": 15,
     "metadata": {},
     "output_type": "execute_result"
    }
   ],
   "source": [
    "np.arange(15)"
   ]
  },
  {
   "cell_type": "markdown",
   "metadata": {},
   "source": [
    "### Data Types for ndarrays"
   ]
  },
  {
   "cell_type": "code",
   "execution_count": 16,
   "metadata": {},
   "outputs": [
    {
     "data": {
      "text/plain": [
       "dtype('int32')"
      ]
     },
     "execution_count": 16,
     "metadata": {},
     "output_type": "execute_result"
    }
   ],
   "source": [
    "arr1 = np.array([1, 2, 3], dtype=np.float64)\n",
    "arr2 = np.array([1, 2, 3], dtype=np.int32)\n",
    "arr1.dtype\n",
    "arr2.dtype"
   ]
  },
  {
   "cell_type": "code",
   "execution_count": 17,
   "metadata": {},
   "outputs": [
    {
     "data": {
      "text/plain": [
       "dtype('float64')"
      ]
     },
     "execution_count": 17,
     "metadata": {},
     "output_type": "execute_result"
    }
   ],
   "source": [
    "arr = np.array([1, 2, 3, 4, 5])\n",
    "arr.dtype\n",
    "float_arr = arr.astype(np.float64)\n",
    "float_arr.dtype"
   ]
  },
  {
   "cell_type": "code",
   "execution_count": 18,
   "metadata": {},
   "outputs": [
    {
     "data": {
      "text/plain": [
       "array([ 3, -1, -2,  0, 12, 10], dtype=int32)"
      ]
     },
     "execution_count": 18,
     "metadata": {},
     "output_type": "execute_result"
    }
   ],
   "source": [
    "arr = np.array([3.7, -1.2, -2.6, 0.5, 12.9, 10.1])\n",
    "arr\n",
    "arr.astype(np.int32)"
   ]
  },
  {
   "cell_type": "code",
   "execution_count": 19,
   "metadata": {},
   "outputs": [
    {
     "data": {
      "text/plain": [
       "array([  1.25,  -9.6 ,  42.  ])"
      ]
     },
     "execution_count": 19,
     "metadata": {},
     "output_type": "execute_result"
    }
   ],
   "source": [
    "numeric_strings = np.array(['1.25', '-9.6', '42'], dtype=np.string_)\n",
    "numeric_strings.astype(float)"
   ]
  },
  {
   "cell_type": "code",
   "execution_count": 20,
   "metadata": {},
   "outputs": [
    {
     "data": {
      "text/plain": [
       "array([ 0.,  1.,  2.,  3.,  4.,  5.,  6.,  7.,  8.,  9.])"
      ]
     },
     "execution_count": 20,
     "metadata": {},
     "output_type": "execute_result"
    }
   ],
   "source": [
    "int_array = np.arange(10)\n",
    "calibers = np.array([.22, .270, .357, .380, .44, .50], dtype=np.float64)\n",
    "int_array.astype(calibers.dtype)"
   ]
  },
  {
   "cell_type": "code",
   "execution_count": 21,
   "metadata": {},
   "outputs": [
    {
     "data": {
      "text/plain": [
       "array([         0, 1075314688,          0, 1075707904,          0,\n",
       "       1075838976,          0, 1072693248], dtype=uint32)"
      ]
     },
     "execution_count": 21,
     "metadata": {},
     "output_type": "execute_result"
    }
   ],
   "source": [
    "empty_uint32 = np.empty(8, dtype='u4')\n",
    "empty_uint32"
   ]
  },
  {
   "cell_type": "markdown",
   "metadata": {},
   "source": [
    "### Operations between arrays and scalars"
   ]
  },
  {
   "cell_type": "code",
   "execution_count": 22,
   "metadata": {},
   "outputs": [
    {
     "data": {
      "text/plain": [
       "array([[ 0.,  0.,  0.],\n",
       "       [ 0.,  0.,  0.]])"
      ]
     },
     "execution_count": 22,
     "metadata": {},
     "output_type": "execute_result"
    }
   ],
   "source": [
    "arr = np.array([[1., 2., 3.], [4., 5., 6.]])\n",
    "arr\n",
    "arr * arr\n",
    "arr - arr"
   ]
  },
  {
   "cell_type": "code",
   "execution_count": 23,
   "metadata": {},
   "outputs": [
    {
     "data": {
      "text/plain": [
       "array([[ 1.    ,  1.4142,  1.7321],\n",
       "       [ 2.    ,  2.2361,  2.4495]])"
      ]
     },
     "execution_count": 23,
     "metadata": {},
     "output_type": "execute_result"
    }
   ],
   "source": [
    "1 / arr\n",
    "arr ** 0.5"
   ]
  },
  {
   "cell_type": "markdown",
   "metadata": {},
   "source": [
    "### Basic indexing and slicing"
   ]
  },
  {
   "cell_type": "code",
   "execution_count": 24,
   "metadata": {},
   "outputs": [
    {
     "data": {
      "text/plain": [
       "array([ 0,  1,  2,  3,  4, 12, 12, 12,  8,  9])"
      ]
     },
     "execution_count": 24,
     "metadata": {},
     "output_type": "execute_result"
    }
   ],
   "source": [
    "arr = np.arange(10)\n",
    "arr\n",
    "arr[5]\n",
    "arr[5:8]\n",
    "arr[5:8] = 12\n",
    "arr"
   ]
  },
  {
   "cell_type": "code",
   "execution_count": 25,
   "metadata": {},
   "outputs": [
    {
     "data": {
      "text/plain": [
       "array([ 0,  1,  2,  3,  4, 64, 64, 64,  8,  9])"
      ]
     },
     "execution_count": 25,
     "metadata": {},
     "output_type": "execute_result"
    }
   ],
   "source": [
    "arr_slice = arr[5:8]\n",
    "arr_slice[1] = 12345\n",
    "arr\n",
    "arr_slice[:] = 64\n",
    "arr"
   ]
  },
  {
   "cell_type": "code",
   "execution_count": 26,
   "metadata": {},
   "outputs": [
    {
     "data": {
      "text/plain": [
       "array([7, 8, 9])"
      ]
     },
     "execution_count": 26,
     "metadata": {},
     "output_type": "execute_result"
    }
   ],
   "source": [
    "arr2d = np.array([[1, 2, 3], [4, 5, 6], [7, 8, 9]])\n",
    "arr2d[2]"
   ]
  },
  {
   "cell_type": "code",
   "execution_count": 27,
   "metadata": {},
   "outputs": [
    {
     "data": {
      "text/plain": [
       "3"
      ]
     },
     "execution_count": 27,
     "metadata": {},
     "output_type": "execute_result"
    }
   ],
   "source": [
    "arr2d[0][2]\n",
    "arr2d[0, 2]"
   ]
  },
  {
   "cell_type": "code",
   "execution_count": 28,
   "metadata": {},
   "outputs": [
    {
     "data": {
      "text/plain": [
       "array([[[ 1,  2,  3],\n",
       "        [ 4,  5,  6]],\n",
       "\n",
       "       [[ 7,  8,  9],\n",
       "        [10, 11, 12]]])"
      ]
     },
     "execution_count": 28,
     "metadata": {},
     "output_type": "execute_result"
    }
   ],
   "source": [
    "arr3d = np.array([[[1, 2, 3], [4, 5, 6]], [[7, 8, 9], [10, 11, 12]]])\n",
    "arr3d"
   ]
  },
  {
   "cell_type": "code",
   "execution_count": 29,
   "metadata": {},
   "outputs": [
    {
     "data": {
      "text/plain": [
       "array([[1, 2, 3],\n",
       "       [4, 5, 6]])"
      ]
     },
     "execution_count": 29,
     "metadata": {},
     "output_type": "execute_result"
    }
   ],
   "source": [
    "arr3d[0]"
   ]
  },
  {
   "cell_type": "code",
   "execution_count": 30,
   "metadata": {},
   "outputs": [
    {
     "data": {
      "text/plain": [
       "array([[[ 1,  2,  3],\n",
       "        [ 4,  5,  6]],\n",
       "\n",
       "       [[ 7,  8,  9],\n",
       "        [10, 11, 12]]])"
      ]
     },
     "execution_count": 30,
     "metadata": {},
     "output_type": "execute_result"
    }
   ],
   "source": [
    "old_values = arr3d[0].copy()\n",
    "arr3d[0] = 42\n",
    "arr3d\n",
    "arr3d[0] = old_values\n",
    "arr3d"
   ]
  },
  {
   "cell_type": "code",
   "execution_count": 31,
   "metadata": {},
   "outputs": [
    {
     "data": {
      "text/plain": [
       "array([7, 8, 9])"
      ]
     },
     "execution_count": 31,
     "metadata": {},
     "output_type": "execute_result"
    }
   ],
   "source": [
    "arr3d[1, 0]"
   ]
  },
  {
   "cell_type": "markdown",
   "metadata": {},
   "source": [
    "## Indexing with slices"
   ]
  },
  {
   "cell_type": "code",
   "execution_count": 32,
   "metadata": {},
   "outputs": [
    {
     "data": {
      "text/plain": [
       "array([ 1,  2,  3,  4, 64])"
      ]
     },
     "execution_count": 32,
     "metadata": {},
     "output_type": "execute_result"
    }
   ],
   "source": [
    "arr[1:6]"
   ]
  },
  {
   "cell_type": "code",
   "execution_count": 33,
   "metadata": {},
   "outputs": [
    {
     "data": {
      "text/plain": [
       "array([[1, 2, 3],\n",
       "       [4, 5, 6]])"
      ]
     },
     "execution_count": 33,
     "metadata": {},
     "output_type": "execute_result"
    }
   ],
   "source": [
    "arr2d\n",
    "arr2d[:2]"
   ]
  },
  {
   "cell_type": "code",
   "execution_count": 34,
   "metadata": {},
   "outputs": [
    {
     "data": {
      "text/plain": [
       "array([[2, 3],\n",
       "       [5, 6]])"
      ]
     },
     "execution_count": 34,
     "metadata": {},
     "output_type": "execute_result"
    }
   ],
   "source": [
    "arr2d[:2, 1:]"
   ]
  },
  {
   "cell_type": "code",
   "execution_count": 35,
   "metadata": {},
   "outputs": [
    {
     "data": {
      "text/plain": [
       "array([7])"
      ]
     },
     "execution_count": 35,
     "metadata": {},
     "output_type": "execute_result"
    }
   ],
   "source": [
    "arr2d[1, :2]\n",
    "arr2d[2, :1]"
   ]
  },
  {
   "cell_type": "code",
   "execution_count": 36,
   "metadata": {},
   "outputs": [
    {
     "data": {
      "text/plain": [
       "array([[1],\n",
       "       [4],\n",
       "       [7]])"
      ]
     },
     "execution_count": 36,
     "metadata": {},
     "output_type": "execute_result"
    }
   ],
   "source": [
    "arr2d[:, :1]"
   ]
  },
  {
   "cell_type": "code",
   "execution_count": 37,
   "metadata": {
    "collapsed": true
   },
   "outputs": [],
   "source": [
    "arr2d[:2, 1:] = 0"
   ]
  },
  {
   "cell_type": "markdown",
   "metadata": {},
   "source": [
    "### Boolean indexing"
   ]
  },
  {
   "cell_type": "code",
   "execution_count": 41,
   "metadata": {},
   "outputs": [
    {
     "data": {
      "text/plain": [
       "array([[ 0.2789, -0.9351, -0.0588,  0.129 ],\n",
       "       [-0.3345,  0.0928, -1.7962,  1.1201],\n",
       "       [ 0.5602,  1.2537, -2.1096,  0.6505],\n",
       "       [-1.4445, -0.7989,  1.0185,  1.0009],\n",
       "       [-0.9414, -2.026 ,  0.0611,  0.0308],\n",
       "       [ 0.0687, -0.7581,  0.2385, -0.7006],\n",
       "       [-0.5558, -1.8531, -0.4322,  2.1183]])"
      ]
     },
     "execution_count": 41,
     "metadata": {},
     "output_type": "execute_result"
    }
   ],
   "source": [
    "names = np.array(['Bob', 'Joe', 'Will', 'Bob', 'Will', 'Joe', 'Joe'])\n",
    "data = randn(7, 4)\n"
   ]
  },
  {
   "cell_type": "code",
   "execution_count": 42,
   "metadata": {},
   "outputs": [
    {
     "data": {
      "text/plain": [
       "array(['Bob', 'Joe', 'Will', 'Bob', 'Will', 'Joe', 'Joe'],\n",
       "      dtype='|S4')"
      ]
     },
     "execution_count": 42,
     "metadata": {},
     "output_type": "execute_result"
    }
   ],
   "source": [
    "names\n"
   ]
  },
  {
   "cell_type": "code",
   "execution_count": 43,
   "metadata": {},
   "outputs": [
    {
     "data": {
      "text/plain": [
       "array([[ 0.2789, -0.9351, -0.0588,  0.129 ],\n",
       "       [-0.3345,  0.0928, -1.7962,  1.1201],\n",
       "       [ 0.5602,  1.2537, -2.1096,  0.6505],\n",
       "       [-1.4445, -0.7989,  1.0185,  1.0009],\n",
       "       [-0.9414, -2.026 ,  0.0611,  0.0308],\n",
       "       [ 0.0687, -0.7581,  0.2385, -0.7006],\n",
       "       [-0.5558, -1.8531, -0.4322,  2.1183]])"
      ]
     },
     "execution_count": 43,
     "metadata": {},
     "output_type": "execute_result"
    }
   ],
   "source": [
    "data"
   ]
  },
  {
   "cell_type": "code",
   "execution_count": 44,
   "metadata": {},
   "outputs": [
    {
     "data": {
      "text/plain": [
       "array([ True, False, False,  True, False, False, False], dtype=bool)"
      ]
     },
     "execution_count": 44,
     "metadata": {},
     "output_type": "execute_result"
    }
   ],
   "source": [
    "names == 'Bob'"
   ]
  },
  {
   "cell_type": "code",
   "execution_count": 45,
   "metadata": {},
   "outputs": [
    {
     "data": {
      "text/plain": [
       "array([[ 0.2789, -0.9351, -0.0588,  0.129 ],\n",
       "       [-1.4445, -0.7989,  1.0185,  1.0009]])"
      ]
     },
     "execution_count": 45,
     "metadata": {},
     "output_type": "execute_result"
    }
   ],
   "source": [
    "data[names == 'Bob']"
   ]
  },
  {
   "cell_type": "code",
   "execution_count": 46,
   "metadata": {},
   "outputs": [
    {
     "data": {
      "text/plain": [
       "array([ 0.129 ,  1.0009])"
      ]
     },
     "execution_count": 46,
     "metadata": {},
     "output_type": "execute_result"
    }
   ],
   "source": [
    "data[names == 'Bob', 2:]\n",
    "data[names == 'Bob', 3]"
   ]
  },
  {
   "cell_type": "code",
   "execution_count": 48,
   "metadata": {},
   "outputs": [
    {
     "data": {
      "text/plain": [
       "array([False,  True,  True, False,  True,  True,  True], dtype=bool)"
      ]
     },
     "execution_count": 48,
     "metadata": {},
     "output_type": "execute_result"
    }
   ],
   "source": [
    "names != 'Bob'\n"
   ]
  },
  {
   "cell_type": "code",
   "execution_count": 55,
   "metadata": {},
   "outputs": [
    {
     "data": {
      "text/plain": [
       "array([[-0.3345,  0.0928, -1.7962,  1.1201],\n",
       "       [ 0.5602,  1.2537, -2.1096,  0.6505],\n",
       "       [-0.9414, -2.026 ,  0.0611,  0.0308],\n",
       "       [ 0.0687, -0.7581,  0.2385, -0.7006],\n",
       "       [-0.5558, -1.8531, -0.4322,  2.1183]])"
      ]
     },
     "execution_count": 55,
     "metadata": {},
     "output_type": "execute_result"
    }
   ],
   "source": [
    "data[names != 'Bob']"
   ]
  },
  {
   "cell_type": "code",
   "execution_count": 56,
   "metadata": {},
   "outputs": [
    {
     "data": {
      "text/plain": [
       "array([[ 0.2789, -0.9351, -0.0588,  0.129 ],\n",
       "       [ 0.5602,  1.2537, -2.1096,  0.6505],\n",
       "       [-1.4445, -0.7989,  1.0185,  1.0009],\n",
       "       [-0.9414, -2.026 ,  0.0611,  0.0308]])"
      ]
     },
     "execution_count": 56,
     "metadata": {},
     "output_type": "execute_result"
    }
   ],
   "source": [
    "mask = (names == 'Bob') | (names == 'Will')\n",
    "mask\n",
    "data[mask]"
   ]
  },
  {
   "cell_type": "code",
   "execution_count": 57,
   "metadata": {},
   "outputs": [
    {
     "data": {
      "text/plain": [
       "array([[ 0.2789,  0.    ,  0.    ,  0.129 ],\n",
       "       [ 0.    ,  0.0928,  0.    ,  1.1201],\n",
       "       [ 0.5602,  1.2537,  0.    ,  0.6505],\n",
       "       [ 0.    ,  0.    ,  1.0185,  1.0009],\n",
       "       [ 0.    ,  0.    ,  0.0611,  0.0308],\n",
       "       [ 0.0687,  0.    ,  0.2385,  0.    ],\n",
       "       [ 0.    ,  0.    ,  0.    ,  2.1183]])"
      ]
     },
     "execution_count": 57,
     "metadata": {},
     "output_type": "execute_result"
    }
   ],
   "source": [
    "data[data < 0] = 0\n",
    "data"
   ]
  },
  {
   "cell_type": "code",
   "execution_count": 58,
   "metadata": {},
   "outputs": [
    {
     "data": {
      "text/plain": [
       "array([[ 7.    ,  7.    ,  7.    ,  7.    ],\n",
       "       [ 0.    ,  0.0928,  0.    ,  1.1201],\n",
       "       [ 7.    ,  7.    ,  7.    ,  7.    ],\n",
       "       [ 7.    ,  7.    ,  7.    ,  7.    ],\n",
       "       [ 7.    ,  7.    ,  7.    ,  7.    ],\n",
       "       [ 0.0687,  0.    ,  0.2385,  0.    ],\n",
       "       [ 0.    ,  0.    ,  0.    ,  2.1183]])"
      ]
     },
     "execution_count": 58,
     "metadata": {},
     "output_type": "execute_result"
    }
   ],
   "source": [
    "data[names != 'Joe'] = 7\n",
    "data"
   ]
  },
  {
   "cell_type": "markdown",
   "metadata": {},
   "source": [
    "### Fancy indexing"
   ]
  },
  {
   "cell_type": "code",
   "execution_count": 59,
   "metadata": {},
   "outputs": [
    {
     "data": {
      "text/plain": [
       "array([[ 0.,  0.,  0.,  0.],\n",
       "       [ 1.,  1.,  1.,  1.],\n",
       "       [ 2.,  2.,  2.,  2.],\n",
       "       [ 3.,  3.,  3.,  3.],\n",
       "       [ 4.,  4.,  4.,  4.],\n",
       "       [ 5.,  5.,  5.,  5.],\n",
       "       [ 6.,  6.,  6.,  6.],\n",
       "       [ 7.,  7.,  7.,  7.]])"
      ]
     },
     "execution_count": 59,
     "metadata": {},
     "output_type": "execute_result"
    }
   ],
   "source": [
    "arr = np.empty((8, 4))\n",
    "for i in range(8):\n",
    "    arr[i] = i\n",
    "arr"
   ]
  },
  {
   "cell_type": "code",
   "execution_count": 60,
   "metadata": {},
   "outputs": [
    {
     "data": {
      "text/plain": [
       "array([[ 4.,  4.,  4.,  4.],\n",
       "       [ 3.,  3.,  3.,  3.],\n",
       "       [ 0.,  0.,  0.,  0.],\n",
       "       [ 6.,  6.,  6.,  6.]])"
      ]
     },
     "execution_count": 60,
     "metadata": {},
     "output_type": "execute_result"
    }
   ],
   "source": [
    "arr[[4, 3, 0, 6]]"
   ]
  },
  {
   "cell_type": "code",
   "execution_count": 61,
   "metadata": {},
   "outputs": [
    {
     "data": {
      "text/plain": [
       "array([[ 5.,  5.,  5.,  5.],\n",
       "       [ 3.,  3.,  3.,  3.],\n",
       "       [ 1.,  1.,  1.,  1.]])"
      ]
     },
     "execution_count": 61,
     "metadata": {},
     "output_type": "execute_result"
    }
   ],
   "source": [
    "arr[[-3, -5, -7]]"
   ]
  },
  {
   "cell_type": "code",
   "execution_count": 63,
   "metadata": {},
   "outputs": [
    {
     "data": {
      "text/plain": [
       "array([[ 0,  1,  2,  3],\n",
       "       [ 4,  5,  6,  7],\n",
       "       [ 8,  9, 10, 11],\n",
       "       [12, 13, 14, 15],\n",
       "       [16, 17, 18, 19],\n",
       "       [20, 21, 22, 23],\n",
       "       [24, 25, 26, 27],\n",
       "       [28, 29, 30, 31]])"
      ]
     },
     "execution_count": 63,
     "metadata": {},
     "output_type": "execute_result"
    }
   ],
   "source": [
    "# more on reshape in Chapter 12\n",
    "arr = np.arange(32).reshape((8, 4))\n",
    "arr\n"
   ]
  },
  {
   "cell_type": "code",
   "execution_count": 64,
   "metadata": {},
   "outputs": [
    {
     "data": {
      "text/plain": [
       "array([ 4, 23, 29, 10])"
      ]
     },
     "execution_count": 64,
     "metadata": {},
     "output_type": "execute_result"
    }
   ],
   "source": [
    "arr[[1, 5, 7, 2], [0, 3, 1, 2]]"
   ]
  },
  {
   "cell_type": "code",
   "execution_count": 65,
   "metadata": {},
   "outputs": [
    {
     "data": {
      "text/plain": [
       "array([[ 4,  7,  5,  6],\n",
       "       [20, 23, 21, 22],\n",
       "       [28, 31, 29, 30],\n",
       "       [ 8, 11,  9, 10]])"
      ]
     },
     "execution_count": 65,
     "metadata": {},
     "output_type": "execute_result"
    }
   ],
   "source": [
    "arr[[1, 5, 7, 2]][:, [0, 3, 1, 2]]"
   ]
  },
  {
   "cell_type": "code",
   "execution_count": 66,
   "metadata": {},
   "outputs": [
    {
     "data": {
      "text/plain": [
       "array([[ 4,  7,  5,  6],\n",
       "       [20, 23, 21, 22],\n",
       "       [28, 31, 29, 30],\n",
       "       [ 8, 11,  9, 10]])"
      ]
     },
     "execution_count": 66,
     "metadata": {},
     "output_type": "execute_result"
    }
   ],
   "source": [
    "arr[np.ix_([1, 5, 7, 2], [0, 3, 1, 2])]"
   ]
  },
  {
   "cell_type": "markdown",
   "metadata": {},
   "source": [
    "### Transposing arrays and swapping axes"
   ]
  },
  {
   "cell_type": "code",
   "execution_count": 67,
   "metadata": {},
   "outputs": [
    {
     "data": {
      "text/plain": [
       "array([[ 0,  1,  2,  3,  4],\n",
       "       [ 5,  6,  7,  8,  9],\n",
       "       [10, 11, 12, 13, 14]])"
      ]
     },
     "execution_count": 67,
     "metadata": {},
     "output_type": "execute_result"
    }
   ],
   "source": [
    "arr = np.arange(15).reshape((3, 5))\n",
    "arr\n"
   ]
  },
  {
   "cell_type": "code",
   "execution_count": 68,
   "metadata": {},
   "outputs": [
    {
     "data": {
      "text/plain": [
       "array([[ 0,  5, 10],\n",
       "       [ 1,  6, 11],\n",
       "       [ 2,  7, 12],\n",
       "       [ 3,  8, 13],\n",
       "       [ 4,  9, 14]])"
      ]
     },
     "execution_count": 68,
     "metadata": {},
     "output_type": "execute_result"
    }
   ],
   "source": [
    "arr.T"
   ]
  },
  {
   "cell_type": "code",
   "execution_count": 72,
   "metadata": {},
   "outputs": [
    {
     "data": {
      "text/plain": [
       "array([[ 8.2377, -2.4935,  5.8476],\n",
       "       [-2.4935,  2.5419, -3.6503],\n",
       "       [ 5.8476, -3.6503,  9.8137]])"
      ]
     },
     "execution_count": 72,
     "metadata": {},
     "output_type": "execute_result"
    }
   ],
   "source": [
    "arr = np.random.randn(6, 3)\n",
    "np.dot(arr.T, arr)"
   ]
  },
  {
   "cell_type": "code",
   "execution_count": 75,
   "metadata": {},
   "outputs": [
    {
     "data": {
      "text/plain": [
       "array([[[ 0,  1,  2,  3],\n",
       "        [ 4,  5,  6,  7]],\n",
       "\n",
       "       [[ 8,  9, 10, 11],\n",
       "        [12, 13, 14, 15]]])"
      ]
     },
     "execution_count": 75,
     "metadata": {},
     "output_type": "execute_result"
    }
   ],
   "source": [
    "arr = np.arange(16).reshape((2, 2, 4))\n",
    "arr\n"
   ]
  },
  {
   "cell_type": "code",
   "execution_count": 77,
   "metadata": {},
   "outputs": [
    {
     "data": {
      "text/plain": [
       "array([[[ 0,  8],\n",
       "        [ 4, 12]],\n",
       "\n",
       "       [[ 1,  9],\n",
       "        [ 5, 13]],\n",
       "\n",
       "       [[ 2, 10],\n",
       "        [ 6, 14]],\n",
       "\n",
       "       [[ 3, 11],\n",
       "        [ 7, 15]]])"
      ]
     },
     "execution_count": 77,
     "metadata": {},
     "output_type": "execute_result"
    }
   ],
   "source": [
    "arr.transpose()"
   ]
  },
  {
   "cell_type": "code",
   "execution_count": 78,
   "metadata": {},
   "outputs": [
    {
     "data": {
      "text/plain": [
       "array([[[ 0,  1,  2,  3],\n",
       "        [ 8,  9, 10, 11]],\n",
       "\n",
       "       [[ 4,  5,  6,  7],\n",
       "        [12, 13, 14, 15]]])"
      ]
     },
     "execution_count": 78,
     "metadata": {},
     "output_type": "execute_result"
    }
   ],
   "source": [
    "arr.transpose((1, 0, 2))"
   ]
  },
  {
   "cell_type": "code",
   "execution_count": 71,
   "metadata": {},
   "outputs": [
    {
     "data": {
      "text/plain": [
       "array([[[ 0,  4],\n",
       "        [ 1,  5],\n",
       "        [ 2,  6],\n",
       "        [ 3,  7]],\n",
       "\n",
       "       [[ 8, 12],\n",
       "        [ 9, 13],\n",
       "        [10, 14],\n",
       "        [11, 15]]])"
      ]
     },
     "execution_count": 71,
     "metadata": {},
     "output_type": "execute_result"
    }
   ],
   "source": [
    "arr\n",
    "arr.swapaxes(1, 2)"
   ]
  },
  {
   "cell_type": "markdown",
   "metadata": {},
   "source": [
    "## Universal Functions: Fast element-wise array functions"
   ]
  },
  {
   "cell_type": "code",
   "execution_count": 79,
   "metadata": {},
   "outputs": [
    {
     "data": {
      "text/plain": [
       "array([    1.    ,     2.7183,     7.3891,    20.0855,    54.5982,\n",
       "         148.4132,   403.4288,  1096.6332,  2980.958 ,  8103.0839])"
      ]
     },
     "execution_count": 79,
     "metadata": {},
     "output_type": "execute_result"
    }
   ],
   "source": [
    "arr = np.arange(10)\n",
    "np.sqrt(arr)\n",
    "np.exp(arr)"
   ]
  },
  {
   "cell_type": "code",
   "execution_count": 80,
   "metadata": {},
   "outputs": [
    {
     "data": {
      "text/plain": [
       "array([ 1.3341, -0.4705,  0.2231,  1.0026,  1.1652,  1.278 , -0.1464,\n",
       "        1.4783])"
      ]
     },
     "execution_count": 80,
     "metadata": {},
     "output_type": "execute_result"
    }
   ],
   "source": [
    "x = randn(8)\n",
    "y = randn(8)\n",
    "x\n",
    "y\n",
    "np.maximum(x, y) # element-wise maximum"
   ]
  },
  {
   "cell_type": "code",
   "execution_count": 85,
   "metadata": {},
   "outputs": [
    {
     "data": {
      "text/plain": [
       "array([-12.5512,   3.2073,   1.4689,   1.6588,   2.3973,  -4.1175,  -5.1702])"
      ]
     },
     "execution_count": 85,
     "metadata": {},
     "output_type": "execute_result"
    }
   ],
   "source": [
    "arr = randn(7) * 5\n",
    "arr"
   ]
  },
  {
   "cell_type": "code",
   "execution_count": 86,
   "metadata": {},
   "outputs": [
    {
     "data": {
      "text/plain": [
       "(array([-0.5512,  0.2073,  0.4689,  0.6588,  0.3973, -0.1175, -0.1702]),\n",
       " array([-12.,   3.,   1.,   1.,   2.,  -4.,  -5.]))"
      ]
     },
     "execution_count": 86,
     "metadata": {},
     "output_type": "execute_result"
    }
   ],
   "source": [
    "np.modf(arr)"
   ]
  },
  {
   "cell_type": "markdown",
   "metadata": {},
   "source": [
    "## Data processing using arrays"
   ]
  },
  {
   "cell_type": "code",
   "execution_count": 87,
   "metadata": {},
   "outputs": [
    {
     "data": {
      "text/plain": [
       "array([[-5.  , -5.  , -5.  , ..., -5.  , -5.  , -5.  ],\n",
       "       [-4.99, -4.99, -4.99, ..., -4.99, -4.99, -4.99],\n",
       "       [-4.98, -4.98, -4.98, ..., -4.98, -4.98, -4.98],\n",
       "       ..., \n",
       "       [ 4.97,  4.97,  4.97, ...,  4.97,  4.97,  4.97],\n",
       "       [ 4.98,  4.98,  4.98, ...,  4.98,  4.98,  4.98],\n",
       "       [ 4.99,  4.99,  4.99, ...,  4.99,  4.99,  4.99]])"
      ]
     },
     "execution_count": 87,
     "metadata": {},
     "output_type": "execute_result"
    }
   ],
   "source": [
    "points = np.arange(-5, 5, 0.01) # 1000 equally spaced points\n",
    "xs, ys = np.meshgrid(points, points)\n",
    "ys"
   ]
  },
  {
   "cell_type": "code",
   "execution_count": 88,
   "metadata": {
    "collapsed": true
   },
   "outputs": [],
   "source": [
    "from matplotlib.pyplot import imshow, title"
   ]
  },
  {
   "cell_type": "code",
   "execution_count": 89,
   "metadata": {},
   "outputs": [
    {
     "data": {
      "text/plain": [
       "<matplotlib.text.Text at 0x10ad7f3d0>"
      ]
     },
     "execution_count": 89,
     "metadata": {},
     "output_type": "execute_result"
    },
    {
     "data": {
      "image/png": "[encoded data removed]",
      "text/plain": [
       "<matplotlib.figure.Figure at 0x1099e4f10>"
      ]
     },
     "metadata": {},
     "output_type": "display_data"
    }
   ],
   "source": [
    "import matplotlib.pyplot as plt\n",
    "z = np.sqrt(xs ** 2 + ys ** 2)\n",
    "z\n",
    "plt.imshow(z, cmap=plt.cm.gray); plt.colorbar()\n",
    "plt.title(\"Image plot of $\\sqrt{x^2 + y^2}$ for a grid of values\")"
   ]
  },
  {
   "cell_type": "code",
   "execution_count": 90,
   "metadata": {},
   "outputs": [
    {
     "data": {
      "text/plain": [
       "<matplotlib.figure.Figure at 0x10ad33310>"
      ]
     },
     "metadata": {},
     "output_type": "display_data"
    }
   ],
   "source": [
    "plt.draw()"
   ]
  },
  {
   "cell_type": "markdown",
   "metadata": {},
   "source": [
    "### Expressing conditional logic as array operations"
   ]
  },
  {
   "cell_type": "code",
   "execution_count": 91,
   "metadata": {
    "collapsed": true
   },
   "outputs": [],
   "source": [
    "xarr = np.array([1.1, 1.2, 1.3, 1.4, 1.5])\n",
    "yarr = np.array([2.1, 2.2, 2.3, 2.4, 2.5])\n",
    "cond = np.array([True, False, True, True, False])"
   ]
  },
  {
   "cell_type": "code",
   "execution_count": 92,
   "metadata": {},
   "outputs": [
    {
     "data": {
      "text/plain": [
       "[1.1000000000000001, 2.2000000000000002, 1.3, 1.3999999999999999, 2.5]"
      ]
     },
     "execution_count": 92,
     "metadata": {},
     "output_type": "execute_result"
    }
   ],
   "source": [
    "result = [(x if c else y)\n",
    "          for x, y, c in zip(xarr, yarr, cond)]\n",
    "result"
   ]
  },
  {
   "cell_type": "code",
   "execution_count": 93,
   "metadata": {},
   "outputs": [
    {
     "data": {
      "text/plain": [
       "array([ 1.1,  2.2,  1.3,  1.4,  2.5])"
      ]
     },
     "execution_count": 93,
     "metadata": {},
     "output_type": "execute_result"
    }
   ],
   "source": [
    "result = np.where(cond, xarr, yarr)\n",
    "result"
   ]
  },
  {
   "cell_type": "code",
   "execution_count": 94,
   "metadata": {},
   "outputs": [
    {
     "data": {
      "text/plain": [
       "array([[-0.4284, -0.6139,  2.    , -1.2645],\n",
       "       [-0.9185,  2.    , -0.5676, -0.0802],\n",
       "       [ 2.    , -0.2944, -0.1422,  2.    ],\n",
       "       [ 2.    ,  2.    , -0.1999, -0.6567]])"
      ]
     },
     "execution_count": 94,
     "metadata": {},
     "output_type": "execute_result"
    }
   ],
   "source": [
    "arr = randn(4, 4)\n",
    "arr\n",
    "np.where(arr > 0, 2, -2)\n",
    "np.where(arr > 0, 2, arr) # set only positive values to 2"
   ]
  },
  {
   "cell_type": "code",
   "execution_count": 95,
   "metadata": {},
   "outputs": [
    {
     "ename": "NameError",
     "evalue": "name 'n' is not defined",
     "output_type": "error",
     "traceback": [
      "\u001b[0;31m---------------------------------------------------------------------------\u001b[0m",
      "\u001b[0;31mNameError\u001b[0m                                 Traceback (most recent call last)",
      "\u001b[0;32m<ipython-input-95-7a72b8492939>\u001b[0m in \u001b[0;36m<module>\u001b[0;34m()\u001b[0m\n\u001b[1;32m      2\u001b[0m \u001b[0;34m\u001b[0m\u001b[0m\n\u001b[1;32m      3\u001b[0m \u001b[0mresult\u001b[0m \u001b[0;34m=\u001b[0m \u001b[0;34m[\u001b[0m\u001b[0;34m]\u001b[0m\u001b[0;34m\u001b[0m\u001b[0m\n\u001b[0;32m----> 4\u001b[0;31m \u001b[0;32mfor\u001b[0m \u001b[0mi\u001b[0m \u001b[0;32min\u001b[0m \u001b[0mrange\u001b[0m\u001b[0;34m(\u001b[0m\u001b[0mn\u001b[0m\u001b[0;34m)\u001b[0m\u001b[0;34m:\u001b[0m\u001b[0;34m\u001b[0m\u001b[0m\n\u001b[0m\u001b[1;32m      5\u001b[0m     \u001b[0;32mif\u001b[0m \u001b[0mcond1\u001b[0m\u001b[0;34m[\u001b[0m\u001b[0mi\u001b[0m\u001b[0;34m]\u001b[0m \u001b[0;32mand\u001b[0m \u001b[0mcond2\u001b[0m\u001b[0;34m[\u001b[0m\u001b[0mi\u001b[0m\u001b[0;34m]\u001b[0m\u001b[0;34m:\u001b[0m\u001b[0;34m\u001b[0m\u001b[0m\n\u001b[1;32m      6\u001b[0m         \u001b[0mresult\u001b[0m\u001b[0;34m.\u001b[0m\u001b[0mappend\u001b[0m\u001b[0;34m(\u001b[0m\u001b[0;36m0\u001b[0m\u001b[0;34m)\u001b[0m\u001b[0;34m\u001b[0m\u001b[0m\n",
      "\u001b[0;31mNameError\u001b[0m: name 'n' is not defined"
     ]
    }
   ],
   "source": [
    "# Not to be executed\n",
    "\n",
    "result = []\n",
    "for i in range(n):\n",
    "    if cond1[i] and cond2[i]:\n",
    "        result.append(0)\n",
    "    elif cond1[i]:\n",
    "        result.append(1)\n",
    "    elif cond2[i]:\n",
    "        result.append(2)\n",
    "    else:\n",
    "        result.append(3)"
   ]
  },
  {
   "cell_type": "code",
   "execution_count": 96,
   "metadata": {},
   "outputs": [
    {
     "ename": "NameError",
     "evalue": "name 'cond1' is not defined",
     "output_type": "error",
     "traceback": [
      "\u001b[0;31m---------------------------------------------------------------------------\u001b[0m",
      "\u001b[0;31mNameError\u001b[0m                                 Traceback (most recent call last)",
      "\u001b[0;32m<ipython-input-96-3f6f060bfe75>\u001b[0m in \u001b[0;36m<module>\u001b[0;34m()\u001b[0m\n\u001b[1;32m      1\u001b[0m \u001b[0;31m# Not to be executed\u001b[0m\u001b[0;34m\u001b[0m\u001b[0;34m\u001b[0m\u001b[0m\n\u001b[1;32m      2\u001b[0m \u001b[0;34m\u001b[0m\u001b[0m\n\u001b[0;32m----> 3\u001b[0;31m np.where(cond1 & cond2, 0,\n\u001b[0m\u001b[1;32m      4\u001b[0m          np.where(cond1, 1,\n\u001b[1;32m      5\u001b[0m                   np.where(cond2, 2, 3)))\n",
      "\u001b[0;31mNameError\u001b[0m: name 'cond1' is not defined"
     ]
    }
   ],
   "source": [
    "# Not to be executed\n",
    "\n",
    "np.where(cond1 & cond2, 0,\n",
    "         np.where(cond1, 1,\n",
    "                  np.where(cond2, 2, 3)))"
   ]
  },
  {
   "cell_type": "code",
   "execution_count": 97,
   "metadata": {},
   "outputs": [
    {
     "ename": "NameError",
     "evalue": "name 'cond1' is not defined",
     "output_type": "error",
     "traceback": [
      "\u001b[0;31m---------------------------------------------------------------------------\u001b[0m",
      "\u001b[0;31mNameError\u001b[0m                                 Traceback (most recent call last)",
      "\u001b[0;32m<ipython-input-97-9f6d66815d32>\u001b[0m in \u001b[0;36m<module>\u001b[0;34m()\u001b[0m\n\u001b[1;32m      1\u001b[0m \u001b[0;31m# Not to be executed\u001b[0m\u001b[0;34m\u001b[0m\u001b[0;34m\u001b[0m\u001b[0m\n\u001b[1;32m      2\u001b[0m \u001b[0;34m\u001b[0m\u001b[0m\n\u001b[0;32m----> 3\u001b[0;31m \u001b[0mresult\u001b[0m \u001b[0;34m=\u001b[0m \u001b[0;36m1\u001b[0m \u001b[0;34m*\u001b[0m \u001b[0mcond1\u001b[0m \u001b[0;34m+\u001b[0m \u001b[0;36m2\u001b[0m \u001b[0;34m*\u001b[0m \u001b[0mcond2\u001b[0m \u001b[0;34m+\u001b[0m \u001b[0;36m3\u001b[0m \u001b[0;34m*\u001b[0m \u001b[0;34m-\u001b[0m\u001b[0;34m(\u001b[0m\u001b[0mcond1\u001b[0m \u001b[0;34m|\u001b[0m \u001b[0mcond2\u001b[0m\u001b[0;34m)\u001b[0m\u001b[0;34m\u001b[0m\u001b[0m\n\u001b[0m",
      "\u001b[0;31mNameError\u001b[0m: name 'cond1' is not defined"
     ]
    }
   ],
   "source": [
    "# Not to be executed\n",
    "\n",
    "result = 1 * cond1 + 2 * cond2 + 3 * -(cond1 | cond2)"
   ]
  },
  {
   "cell_type": "markdown",
   "metadata": {},
   "source": [
    "### Mathematical and statistical methods"
   ]
  },
  {
   "cell_type": "code",
   "execution_count": 103,
   "metadata": {},
   "outputs": [
    {
     "data": {
      "text/plain": [
       "7.7723388720563706"
      ]
     },
     "execution_count": 103,
     "metadata": {},
     "output_type": "execute_result"
    }
   ],
   "source": [
    "arr = np.random.randn(5, 4) # normally-distributed data\n",
    "arr.mean()\n",
    "np.mean(arr)\n",
    "arr.sum()"
   ]
  },
  {
   "cell_type": "code",
   "execution_count": 104,
   "metadata": {},
   "outputs": [
    {
     "data": {
      "text/plain": [
       "array([ 0.3485,  0.5992, -0.6561,  0.0544,  1.5971])"
      ]
     },
     "execution_count": 104,
     "metadata": {},
     "output_type": "execute_result"
    }
   ],
   "source": [
    "arr.mean(axis=1)\n"
   ]
  },
  {
   "cell_type": "code",
   "execution_count": 105,
   "metadata": {},
   "outputs": [
    {
     "data": {
      "text/plain": [
       "array([ 1.9593,  0.3161,  3.4669,  2.0301])"
      ]
     },
     "execution_count": 105,
     "metadata": {},
     "output_type": "execute_result"
    }
   ],
   "source": [
    "arr.sum(0)"
   ]
  },
  {
   "cell_type": "code",
   "execution_count": 106,
   "metadata": {
    "collapsed": true
   },
   "outputs": [],
   "source": [
    "arr = np.array([[0, 1, 2], [3, 4, 5], [6, 7, 8]])\n"
   ]
  },
  {
   "cell_type": "code",
   "execution_count": 107,
   "metadata": {},
   "outputs": [
    {
     "data": {
      "text/plain": [
       "array([[ 0,  1,  2],\n",
       "       [ 3,  5,  7],\n",
       "       [ 9, 12, 15]])"
      ]
     },
     "execution_count": 107,
     "metadata": {},
     "output_type": "execute_result"
    }
   ],
   "source": [
    "arr.cumsum(0)\n"
   ]
  },
  {
   "cell_type": "code",
   "execution_count": 108,
   "metadata": {},
   "outputs": [
    {
     "data": {
      "text/plain": [
       "array([[  0,   0,   0],\n",
       "       [  3,  12,  60],\n",
       "       [  6,  42, 336]])"
      ]
     },
     "execution_count": 108,
     "metadata": {},
     "output_type": "execute_result"
    }
   ],
   "source": [
    "arr.cumprod(1)"
   ]
  },
  {
   "cell_type": "markdown",
   "metadata": {},
   "source": [
    "### Methods for boolean arrays"
   ]
  },
  {
   "cell_type": "code",
   "execution_count": 109,
   "metadata": {},
   "outputs": [
    {
     "data": {
      "text/plain": [
       "46"
      ]
     },
     "execution_count": 109,
     "metadata": {},
     "output_type": "execute_result"
    }
   ],
   "source": [
    "arr = randn(100)\n",
    "(arr > 0).sum() # Number of positive values"
   ]
  },
  {
   "cell_type": "code",
   "execution_count": 110,
   "metadata": {},
   "outputs": [
    {
     "data": {
      "text/plain": [
       "False"
      ]
     },
     "execution_count": 110,
     "metadata": {},
     "output_type": "execute_result"
    }
   ],
   "source": [
    "bools = np.array([False, False, True, False])\n",
    "bools.any()\n",
    "bools.all()"
   ]
  },
  {
   "cell_type": "markdown",
   "metadata": {},
   "source": [
    "### Sorting"
   ]
  },
  {
   "cell_type": "code",
   "execution_count": 111,
   "metadata": {},
   "outputs": [
    {
     "data": {
      "text/plain": [
       "array([-2.2233, -0.5321, -0.412 ,  0.0145,  0.3175,  0.4374,  1.2202,\n",
       "        1.4166])"
      ]
     },
     "execution_count": 111,
     "metadata": {},
     "output_type": "execute_result"
    }
   ],
   "source": [
    "arr = randn(8)\n",
    "arr\n",
    "arr.sort()\n",
    "arr"
   ]
  },
  {
   "cell_type": "code",
   "execution_count": 112,
   "metadata": {},
   "outputs": [
    {
     "data": {
      "text/plain": [
       "array([[ 0.389 ,  0.632 ,  1.2173],\n",
       "       [ 0.6266,  1.2327,  1.2877],\n",
       "       [-0.0789,  0.6048,  0.614 ],\n",
       "       [-1.1223,  0.168 ,  1.5037],\n",
       "       [-1.1928,  0.0265,  1.353 ]])"
      ]
     },
     "execution_count": 112,
     "metadata": {},
     "output_type": "execute_result"
    }
   ],
   "source": [
    "arr = randn(5, 3)\n",
    "arr\n",
    "arr.sort(1)\n",
    "arr"
   ]
  },
  {
   "cell_type": "code",
   "execution_count": 115,
   "metadata": {},
   "outputs": [
    {
     "data": {
      "text/plain": [
       "array([-0.668 ,  0.9381,  1.4146, -0.6523,  0.0579,  0.3815, -0.0262,\n",
       "       -0.2928, -0.2814, -0.7465,  0.5243, -0.207 ,  0.8287,  0.0142,\n",
       "       -0.4248,  0.1651, -1.0421,  0.1814,  0.3856,  0.8025,  0.1599,\n",
       "        0.053 ,  0.7785, -0.9936,  0.7595, -0.7756, -1.315 ,  0.6826,\n",
       "       -1.468 , -0.8144, -0.3691,  0.5435,  0.777 , -0.0725, -1.028 ,\n",
       "       -0.2962,  0.3513,  1.379 ,  0.6699, -0.2938,  1.7307,  1.399 ,\n",
       "       -0.5121,  0.1465,  0.5872,  1.1043, -0.2581, -0.8753,  2.0492,\n",
       "       -0.9321, -1.4469,  0.2023, -0.74  , -0.075 ,  0.8171, -0.5462,\n",
       "        0.7255,  0.8575,  1.5747, -0.1479, -0.1215, -0.3297, -0.6308,\n",
       "       -1.2904,  0.1672,  0.1971,  0.9255,  1.0083, -0.4247, -0.9074,\n",
       "       -0.2756,  2.4993, -0.5155,  0.1496, -0.0628, -0.9296, -0.5239,\n",
       "       -1.1031, -0.4261,  1.0822,  0.0182, -0.793 , -0.1811,  0.7757,\n",
       "        1.5844,  0.1305,  0.8204, -0.6237, -0.7396,  0.5992, -0.4216,\n",
       "        0.6914,  0.6678, -1.2536, -1.7407,  1.2199, -1.8139,  1.1923,\n",
       "       -0.0037,  0.4243,  0.5659, -1.4097, -0.1695, -0.6115, -0.421 ,\n",
       "       -1.3304, -0.9895,  0.2555, -0.3577, -0.2587, -0.5683,  0.323 ,\n",
       "       -0.1132,  1.1502, -0.5369,  0.9078,  0.2435,  2.0789,  0.9888,\n",
       "       -1.5548, -0.45  , -1.8062, -1.1056, -2.2454,  0.8929,  1.689 ,\n",
       "       -1.6435, -0.0991, -0.418 , -0.2922,  1.17  ,  0.5363,  0.2446,\n",
       "        0.3951, -1.6943,  0.3431,  0.6013,  0.1008,  0.6463, -0.6526,\n",
       "        1.0357, -0.6846, -0.7138,  0.8554, -0.3557, -0.5992,  0.2708,\n",
       "       -1.2586, -0.5121,  1.6504, -1.1584,  1.487 ,  1.5207, -1.0566,\n",
       "        1.9091,  0.1026,  1.1232,  0.8277,  0.9719, -1.5186,  0.849 ,\n",
       "       -1.0279, -1.9773,  0.0377,  0.0563,  0.7081,  2.227 , -0.663 ,\n",
       "        0.4179, -0.0869, -0.4692,  0.4247,  0.4855,  0.0607, -0.1602,\n",
       "       -0.7372,  0.2835,  1.9808, -0.0687, -0.5178,  1.7865,  2.2045,\n",
       "       -0.9949, -0.7747,  0.5664,  1.4881,  0.0512, -0.1586,  1.6855,\n",
       "       -0.0077,  0.2823,  0.4618,  1.0167,  1.4418,  1.4504, -0.6428,\n",
       "       -1.8575, -0.3047, -1.2343, -1.0809,  3.036 ,  0.2448,  0.3898,\n",
       "       -0.6363,  0.6468, -0.9401, -0.4174,  1.9485,  1.1662, -1.7632,\n",
       "       -0.0472, -1.1078, -1.7213, -0.5932, -0.034 ,  0.2099,  0.7993,\n",
       "       -0.8986, -0.234 ,  0.7303, -0.6161, -0.3778, -0.4269, -1.1692,\n",
       "        0.2625, -0.4134,  1.045 ,  0.6731,  0.3592,  1.1063,  0.1112,\n",
       "       -0.2648, -2.1914,  0.1913,  1.2147,  0.3663,  0.6181, -1.0014,\n",
       "        0.4349,  1.2029,  0.2637, -0.6111, -1.6408, -0.0879, -1.703 ,\n",
       "        2.8279,  0.655 ,  0.4339, -0.8078,  0.6915,  0.026 ,  0.6518,\n",
       "        0.2882, -2.299 , -0.2637,  0.3302, -1.1575,  3.2052,  0.3379,\n",
       "        1.4389,  2.1816,  0.1462, -0.3339,  1.1986, -1.6785, -0.4694,\n",
       "       -1.0337, -0.9408, -2.6273,  0.621 ,  0.5549,  0.0168,  0.3911,\n",
       "       -0.0475,  0.112 , -0.1714,  0.8124, -1.8451,  0.9328, -0.5616,\n",
       "       -2.5349,  0.26  , -0.1685, -1.0288, -0.4265,  0.6887,  0.0503,\n",
       "        1.2243, -1.0506,  0.3361, -0.3323, -2.0585, -0.4669,  0.2622,\n",
       "        0.0979, -1.4789, -0.6007, -0.3033, -0.6713, -2.8834,  0.6089,\n",
       "       -0.0848, -0.6844,  0.3083,  0.6865,  0.6423, -2.1641,  0.3847,\n",
       "       -1.3975,  0.3406,  0.9004, -0.0151, -2.2165,  1.1373, -0.3094,\n",
       "        0.6932,  1.272 ,  0.2609, -0.0855,  0.2213, -0.662 , -0.4042,\n",
       "       -1.56  ,  1.1141, -0.7974,  0.3253,  0.8969, -1.0089,  2.0858,\n",
       "       -0.9352, -0.6635,  0.4534,  1.041 ,  2.1757,  1.3756, -1.0142,\n",
       "        0.1396,  2.8369, -1.0911,  1.621 ,  0.1446,  0.7989, -0.6804,\n",
       "        2.1735,  0.7774,  0.8785,  0.1924,  0.6526, -0.227 , -0.7085,\n",
       "        0.92  , -1.3639,  0.0747, -0.3064, -0.245 ,  0.8534,  1.7046,\n",
       "       -1.282 ,  0.363 ,  0.5308,  1.1125, -0.2184, -0.6613, -0.1503,\n",
       "       -0.3691,  0.2383, -0.3352,  0.9151,  2.3837,  1.3852, -1.1888,\n",
       "        0.521 , -1.6269, -0.7621,  0.3503,  0.4879, -0.308 , -0.6505,\n",
       "        1.8029, -1.5696,  0.8331, -1.836 , -1.0922, -0.1802, -0.5802,\n",
       "        0.4599,  0.3098, -0.3557,  0.8669,  0.6051, -0.1555, -0.7214,\n",
       "       -0.4073,  0.1604,  0.7055, -1.2484,  1.0757,  1.8655,  0.0585,\n",
       "        1.6658,  0.873 , -0.7277,  1.6345,  0.5451,  0.7117, -0.8297,\n",
       "        0.3962,  0.0858, -0.6039, -0.3169,  0.2353, -1.3314, -0.4061,\n",
       "        0.514 , -0.1232,  0.0388,  1.2825, -1.5926, -0.2916,  0.1153,\n",
       "        1.9721, -0.388 , -0.8503,  0.446 , -0.775 ,  0.7137,  2.6622,\n",
       "       -0.1896, -0.4717, -0.0922, -0.376 ,  0.433 , -0.9799, -1.2038,\n",
       "        1.6812, -1.0055,  1.4335, -1.6976, -0.5677,  0.5532, -0.9269,\n",
       "       -0.9417, -0.0802, -0.9306,  0.3746,  0.7898,  1.18  , -1.428 ,\n",
       "        0.0303, -2.8791,  1.0351,  1.6048, -1.7102,  0.9675,  0.4623,\n",
       "        0.2009,  1.0115, -0.7623,  0.2209, -0.6585,  2.9773,  0.423 ,\n",
       "        1.7705, -0.096 , -1.4706,  1.577 , -1.0814,  2.7345,  0.3449,\n",
       "        1.1743,  1.0719, -0.9375,  0.2956, -1.5476, -1.9585, -0.9812,\n",
       "       -0.5851, -0.2587,  1.268 , -0.5357, -1.4533,  0.213 , -0.7531,\n",
       "       -0.5836, -1.1026, -0.4833,  1.4065,  1.1474,  2.6364,  0.0593,\n",
       "        0.6   , -1.4754, -0.1058, -0.0858,  0.6663,  0.4785,  1.587 ,\n",
       "        0.3768,  0.6374,  0.1769, -1.1778,  0.2089, -0.8201, -0.4186,\n",
       "       -1.1837, -0.0256, -0.0233, -1.0951,  0.6991, -0.3416,  0.2068,\n",
       "       -0.9997, -0.145 ,  0.2312,  0.526 , -0.8065, -0.7895,  0.9141,\n",
       "       -1.2717,  0.1634,  0.4542,  0.4918,  1.2082, -0.6327, -0.2102,\n",
       "       -1.048 , -0.5954,  0.3013,  0.8266,  0.7912, -0.7818,  1.6501,\n",
       "       -0.4397, -1.1713, -0.3703, -1.0048,  1.4486,  0.2957,  0.4604,\n",
       "        0.5905,  0.4158,  0.2309,  3.0535, -0.3418, -0.1473, -0.7728,\n",
       "        1.0259, -1.0918,  0.2329,  1.2978,  0.2003, -0.7642, -0.1443,\n",
       "        0.4436,  0.7008, -0.8693, -0.4181,  0.8034,  1.9797,  0.3836,\n",
       "       -1.0832,  0.102 , -0.0777,  2.2239, -0.1618,  1.9842,  0.0484,\n",
       "       -0.5801, -0.2014,  0.1579, -1.8949,  0.7754,  0.3335, -0.0317,\n",
       "       -0.1828,  0.7882,  0.3466,  0.1091,  1.8364, -0.7338,  1.1044,\n",
       "       -0.6891, -0.6589,  0.8827,  2.8621,  0.4391, -0.1009,  1.6387,\n",
       "        0.9373, -1.0542,  0.3493, -0.8031, -0.217 , -0.9987,  1.3135,\n",
       "       -1.31  ,  0.3068,  1.2167, -0.2076,  1.2768,  0.9427,  0.3536,\n",
       "        0.9057,  0.9189,  0.4895,  0.696 , -0.6613,  0.1444,  0.0278,\n",
       "       -0.2633,  1.7333,  1.5959, -0.0685, -0.093 , -1.059 ,  0.8459,\n",
       "        0.1781, -0.2034,  0.5636,  0.7541, -1.6733, -2.0602,  0.4315,\n",
       "       -1.4249,  0.9036,  0.4128,  1.1026,  0.9625, -1.0554, -0.1486,\n",
       "        0.6678,  1.3575,  0.6554,  1.1502,  0.9522, -1.1162, -1.1046,\n",
       "        0.9725,  1.9605,  1.514 ,  1.3428, -0.6334, -0.3489,  0.2193,\n",
       "       -0.1113, -0.8926,  0.3389,  0.6532, -2.1368, -1.0979, -0.1975,\n",
       "        1.7681, -0.9946, -0.149 , -1.2099,  0.4768,  1.0099, -0.0407,\n",
       "       -0.5994, -1.8658, -0.5751, -1.7859, -0.4979,  1.1977, -0.6416,\n",
       "        0.5196, -0.8356, -0.5351,  0.984 , -0.3144,  0.6194, -0.8945,\n",
       "       -1.2795,  0.1238,  1.6879,  0.3349,  0.0883, -0.6256, -0.2254,\n",
       "       -1.0779,  1.0823, -0.616 , -0.1605,  0.1911,  0.5723, -0.2234,\n",
       "        0.131 , -0.6144, -0.3488,  0.8492, -0.0884,  0.37  , -1.2811,\n",
       "        0.7222,  1.5711, -0.9566, -0.74  ,  0.9556, -1.4749,  0.4618,\n",
       "       -0.7393,  0.5871, -0.2309, -0.8936, -0.5777, -0.4012, -0.2391,\n",
       "        0.4946,  0.4262,  0.4482, -0.6031,  1.3413, -0.3511, -0.3512,\n",
       "       -0.9749,  0.5922,  1.353 ,  0.3151, -1.6424,  0.36  ,  1.9816,\n",
       "        0.7744, -0.4997, -1.0391, -0.5595, -0.0489,  0.484 , -1.0038,\n",
       "       -1.1074,  2.1273, -0.8849, -1.0974, -1.8002, -1.3685, -0.3018,\n",
       "       -0.6248, -0.1048, -0.5813, -0.7581,  1.0055,  0.8101, -0.5275,\n",
       "       -1.0936, -0.2668, -2.5228,  0.9185,  0.8127, -0.9149,  0.1051,\n",
       "        1.4107, -0.6929,  0.4898,  1.8079, -1.2578, -0.0826,  0.083 ,\n",
       "       -0.9511,  0.5046,  0.3256,  1.3256, -0.6932,  0.9101,  0.3197,\n",
       "        0.6031,  0.0501,  0.3436, -3.6189,  0.2618, -1.7491, -0.2348,\n",
       "        0.7921, -0.0262, -0.5269, -2.0347, -0.6201,  0.2409, -0.3773,\n",
       "        0.5251,  0.5095,  0.2511,  1.2444,  0.0802, -1.1962, -0.27  ,\n",
       "        0.9151,  0.3411, -1.9826,  1.5483, -0.9824,  0.0431, -1.1867,\n",
       "        0.5834, -0.0657,  0.5476,  0.1736,  0.0894, -1.956 , -2.6119,\n",
       "       -0.0935, -2.03  , -0.2677, -0.3708, -1.2399, -1.1382, -0.9659,\n",
       "       -0.0493, -1.0202, -1.032 , -1.4371, -0.4199, -0.0519, -0.7968,\n",
       "        1.0427,  1.1449,  0.8938,  1.5513,  0.2089, -0.4272, -0.4971,\n",
       "       -1.6086,  0.099 , -1.0898,  0.6715,  0.0407,  1.0762,  0.4576,\n",
       "       -0.996 ,  0.0879,  0.8753,  0.9956,  1.2427, -1.6838, -0.3167,\n",
       "        1.6304,  0.294 ,  0.0354,  1.0178,  1.1167, -0.3005,  0.5346,\n",
       "        0.2159,  1.9928,  0.0284,  2.2251,  0.0681,  0.1979, -1.3875,\n",
       "        1.8964, -1.3208, -0.3702,  2.4713, -0.4531,  1.9946, -0.4317,\n",
       "        0.8655, -0.5384,  0.2279,  0.3953, -1.0464,  0.5707,  0.3556,\n",
       "        0.7424, -0.5266, -0.138 , -0.1627,  0.863 , -0.2484, -0.6279,\n",
       "        0.1021,  0.3216, -0.049 ,  0.117 , -0.6173,  0.2315,  0.2261,\n",
       "       -0.7304,  1.27  ,  0.626 ,  1.1087, -0.6561, -0.4373, -0.7968,\n",
       "        1.4602,  1.1638,  0.9362, -0.3041,  0.8988,  0.4559,  0.5875,\n",
       "       -1.1779,  1.1598,  0.6139, -0.1834, -1.0717,  0.318 , -1.137 ,\n",
       "       -0.2457,  1.0185, -0.718 , -1.1631,  0.8365, -1.1088, -1.1951,\n",
       "       -1.431 ,  1.0156, -0.0778,  0.3964,  0.7614,  1.9969, -0.231 ,\n",
       "        0.3485,  2.7751,  0.4074,  0.4623, -0.5709,  0.4103,  0.2219,\n",
       "        1.7349,  0.9313,  0.5886,  0.1253, -0.368 , -0.4983,  2.6215,\n",
       "        1.2498,  1.1799, -0.1033,  0.4653, -0.1484,  0.6586,  0.7358,\n",
       "       -0.7467, -0.0402, -0.7745, -0.2389, -0.937 , -1.7959,  0.4329,\n",
       "        0.9423, -0.6048, -0.0444, -1.1052,  0.411 ,  0.3331, -0.892 ,\n",
       "        0.3945, -0.1457,  0.3488,  0.8086, -1.6966,  0.5973,  0.4221,\n",
       "       -0.0408, -1.84  , -1.4004, -1.3865,  1.1889, -0.8098,  1.506 ,\n",
       "       -0.968 ,  1.5157, -1.3088, -0.1044, -1.5031, -0.6945, -0.1086,\n",
       "       -0.1921,  1.5684, -0.6683,  1.6428,  0.0711, -1.389 , -1.6287,\n",
       "       -0.7512, -0.4166,  0.8003,  1.9005,  0.2228, -1.7195,  2.0774,\n",
       "       -0.4872, -0.9912,  1.6126, -1.2365, -0.5423,  0.4958, -1.1574,\n",
       "       -0.2827, -0.5968,  0.3221, -0.0903,  1.5115, -1.8176, -1.123 ,\n",
       "       -1.0747,  2.1728, -1.5055, -0.8702, -1.0525, -0.9286])"
      ]
     },
     "execution_count": 115,
     "metadata": {},
     "output_type": "execute_result"
    }
   ],
   "source": [
    "large_arr = randn(1000)\n",
    "large_arr"
   ]
  },
  {
   "cell_type": "code",
   "execution_count": 116,
   "metadata": {},
   "outputs": [
    {
     "data": {
      "text/plain": [
       "array([-3.6189, -2.8834, -2.8791, -2.6273, -2.6119, -2.5349, -2.5228,\n",
       "       -2.299 , -2.2454, -2.2165, -2.1914, -2.1641, -2.1368, -2.0602,\n",
       "       -2.0585, -2.0347, -2.03  , -1.9826, -1.9773, -1.9585, -1.956 ,\n",
       "       -1.8949, -1.8658, -1.8575, -1.8451, -1.84  , -1.836 , -1.8176,\n",
       "       -1.8139, -1.8062, -1.8002, -1.7959, -1.7859, -1.7632, -1.7491,\n",
       "       -1.7407, -1.7213, -1.7195, -1.7102, -1.703 , -1.6976, -1.6966,\n",
       "       -1.6943, -1.6838, -1.6785, -1.6733, -1.6435, -1.6424, -1.6408,\n",
       "       -1.6287, -1.6269, -1.6086, -1.5926, -1.5696, -1.56  , -1.5548,\n",
       "       -1.5476, -1.5186, -1.5055, -1.5031, -1.4789, -1.4754, -1.4749,\n",
       "       -1.4706, -1.468 , -1.4533, -1.4469, -1.4371, -1.431 , -1.428 ,\n",
       "       -1.4249, -1.4097, -1.4004, -1.3975, -1.389 , -1.3875, -1.3865,\n",
       "       -1.3685, -1.3639, -1.3314, -1.3304, -1.3208, -1.315 , -1.31  ,\n",
       "       -1.3088, -1.2904, -1.282 , -1.2811, -1.2795, -1.2717, -1.2586,\n",
       "       -1.2578, -1.2536, -1.2484, -1.2399, -1.2365, -1.2343, -1.2099,\n",
       "       -1.2038, -1.1962, -1.1951, -1.1888, -1.1867, -1.1837, -1.1779,\n",
       "       -1.1778, -1.1713, -1.1692, -1.1631, -1.1584, -1.1575, -1.1574,\n",
       "       -1.1382, -1.137 , -1.123 , -1.1162, -1.1088, -1.1078, -1.1074,\n",
       "       -1.1056, -1.1052, -1.1046, -1.1031, -1.1026, -1.0979, -1.0974,\n",
       "       -1.0951, -1.0936, -1.0922, -1.0918, -1.0911, -1.0898, -1.0832,\n",
       "       -1.0814, -1.0809, -1.0779, -1.0747, -1.0717, -1.059 , -1.0566,\n",
       "       -1.0554, -1.0542, -1.0525, -1.0506, -1.048 , -1.0464, -1.0421,\n",
       "       -1.0391, -1.0337, -1.032 , -1.0288, -1.028 , -1.0279, -1.0202,\n",
       "       -1.0142, -1.0089, -1.0055, -1.0048, -1.0038, -1.0014, -0.9997,\n",
       "       -0.9987, -0.996 , -0.9949, -0.9946, -0.9936, -0.9912, -0.9895,\n",
       "       -0.9824, -0.9812, -0.9799, -0.9749, -0.968 , -0.9659, -0.9566,\n",
       "       -0.9511, -0.9417, -0.9408, -0.9401, -0.9375, -0.937 , -0.9352,\n",
       "       -0.9321, -0.9306, -0.9296, -0.9286, -0.9269, -0.9149, -0.9074,\n",
       "       -0.8986, -0.8945, -0.8936, -0.8926, -0.892 , -0.8849, -0.8753,\n",
       "       -0.8702, -0.8693, -0.8503, -0.8356, -0.8297, -0.8201, -0.8144,\n",
       "       -0.8098, -0.8078, -0.8065, -0.8031, -0.7974, -0.7968, -0.7968,\n",
       "       -0.793 , -0.7895, -0.7818, -0.7756, -0.775 , -0.7747, -0.7745,\n",
       "       -0.7728, -0.7642, -0.7623, -0.7621, -0.7581, -0.7531, -0.7512,\n",
       "       -0.7467, -0.7465, -0.74  , -0.74  , -0.7396, -0.7393, -0.7372,\n",
       "       -0.7338, -0.7304, -0.7277, -0.7214, -0.718 , -0.7138, -0.7085,\n",
       "       -0.6945, -0.6932, -0.6929, -0.6891, -0.6846, -0.6844, -0.6804,\n",
       "       -0.6713, -0.6683, -0.668 , -0.6635, -0.663 , -0.662 , -0.6613,\n",
       "       -0.6613, -0.6589, -0.6585, -0.6561, -0.6526, -0.6523, -0.6505,\n",
       "       -0.6428, -0.6416, -0.6363, -0.6334, -0.6327, -0.6308, -0.6279,\n",
       "       -0.6256, -0.6248, -0.6237, -0.6201, -0.6173, -0.6161, -0.616 ,\n",
       "       -0.6144, -0.6115, -0.6111, -0.6048, -0.6039, -0.6031, -0.6007,\n",
       "       -0.5994, -0.5992, -0.5968, -0.5954, -0.5932, -0.5851, -0.5836,\n",
       "       -0.5813, -0.5802, -0.5801, -0.5777, -0.5751, -0.5709, -0.5683,\n",
       "       -0.5677, -0.5616, -0.5595, -0.5462, -0.5423, -0.5384, -0.5369,\n",
       "       -0.5357, -0.5351, -0.5275, -0.5269, -0.5266, -0.5239, -0.5178,\n",
       "       -0.5155, -0.5121, -0.5121, -0.4997, -0.4983, -0.4979, -0.4971,\n",
       "       -0.4872, -0.4833, -0.4717, -0.4694, -0.4692, -0.4669, -0.4531,\n",
       "       -0.45  , -0.4397, -0.4373, -0.4317, -0.4272, -0.4269, -0.4265,\n",
       "       -0.4261, -0.4248, -0.4247, -0.4216, -0.421 , -0.4199, -0.4186,\n",
       "       -0.4181, -0.418 , -0.4174, -0.4166, -0.4134, -0.4073, -0.4061,\n",
       "       -0.4042, -0.4012, -0.388 , -0.3778, -0.3773, -0.376 , -0.3708,\n",
       "       -0.3703, -0.3702, -0.3691, -0.3691, -0.368 , -0.3577, -0.3557,\n",
       "       -0.3557, -0.3512, -0.3511, -0.3489, -0.3488, -0.3418, -0.3416,\n",
       "       -0.3352, -0.3339, -0.3323, -0.3297, -0.3169, -0.3167, -0.3144,\n",
       "       -0.3094, -0.308 , -0.3064, -0.3047, -0.3041, -0.3033, -0.3018,\n",
       "       -0.3005, -0.2962, -0.2938, -0.2928, -0.2922, -0.2916, -0.2827,\n",
       "       -0.2814, -0.2756, -0.27  , -0.2677, -0.2668, -0.2648, -0.2637,\n",
       "       -0.2633, -0.2587, -0.2587, -0.2581, -0.2484, -0.2457, -0.245 ,\n",
       "       -0.2391, -0.2389, -0.2348, -0.234 , -0.231 , -0.2309, -0.227 ,\n",
       "       -0.2254, -0.2234, -0.2184, -0.217 , -0.2102, -0.2076, -0.207 ,\n",
       "       -0.2034, -0.2014, -0.1975, -0.1921, -0.1896, -0.1834, -0.1828,\n",
       "       -0.1811, -0.1802, -0.1714, -0.1695, -0.1685, -0.1627, -0.1618,\n",
       "       -0.1605, -0.1602, -0.1586, -0.1555, -0.1503, -0.149 , -0.1486,\n",
       "       -0.1484, -0.1479, -0.1473, -0.1457, -0.145 , -0.1443, -0.138 ,\n",
       "       -0.1232, -0.1215, -0.1132, -0.1113, -0.1086, -0.1058, -0.1048,\n",
       "       -0.1044, -0.1033, -0.1009, -0.0991, -0.096 , -0.0935, -0.093 ,\n",
       "       -0.0922, -0.0903, -0.0884, -0.0879, -0.0869, -0.0858, -0.0855,\n",
       "       -0.0848, -0.0826, -0.0802, -0.0778, -0.0777, -0.075 , -0.0725,\n",
       "       -0.0687, -0.0685, -0.0657, -0.0628, -0.0519, -0.0493, -0.049 ,\n",
       "       -0.0489, -0.0475, -0.0472, -0.0444, -0.0408, -0.0407, -0.0402,\n",
       "       -0.034 , -0.0317, -0.0262, -0.0262, -0.0256, -0.0233, -0.0151,\n",
       "       -0.0077, -0.0037,  0.0142,  0.0168,  0.0182,  0.026 ,  0.0278,\n",
       "        0.0284,  0.0303,  0.0354,  0.0377,  0.0388,  0.0407,  0.0431,\n",
       "        0.0484,  0.0501,  0.0503,  0.0512,  0.053 ,  0.0563,  0.0579,\n",
       "        0.0585,  0.0593,  0.0607,  0.0681,  0.0711,  0.0747,  0.0802,\n",
       "        0.083 ,  0.0858,  0.0879,  0.0883,  0.0894,  0.0979,  0.099 ,\n",
       "        0.1008,  0.102 ,  0.1021,  0.1026,  0.1051,  0.1091,  0.1112,\n",
       "        0.112 ,  0.1153,  0.117 ,  0.1238,  0.1253,  0.1305,  0.131 ,\n",
       "        0.1396,  0.1444,  0.1446,  0.1462,  0.1465,  0.1496,  0.1579,\n",
       "        0.1599,  0.1604,  0.1634,  0.1651,  0.1672,  0.1736,  0.1769,\n",
       "        0.1781,  0.1814,  0.1911,  0.1913,  0.1924,  0.1971,  0.1979,\n",
       "        0.2003,  0.2009,  0.2023,  0.2068,  0.2089,  0.2089,  0.2099,\n",
       "        0.213 ,  0.2159,  0.2193,  0.2209,  0.2213,  0.2219,  0.2228,\n",
       "        0.2261,  0.2279,  0.2309,  0.2312,  0.2315,  0.2329,  0.2353,\n",
       "        0.2383,  0.2409,  0.2435,  0.2446,  0.2448,  0.2511,  0.2555,\n",
       "        0.26  ,  0.2609,  0.2618,  0.2622,  0.2625,  0.2637,  0.2708,\n",
       "        0.2823,  0.2835,  0.2882,  0.294 ,  0.2956,  0.2957,  0.3013,\n",
       "        0.3068,  0.3083,  0.3098,  0.3151,  0.318 ,  0.3197,  0.3216,\n",
       "        0.3221,  0.323 ,  0.3253,  0.3256,  0.3302,  0.3331,  0.3335,\n",
       "        0.3349,  0.3361,  0.3379,  0.3389,  0.3406,  0.3411,  0.3431,\n",
       "        0.3436,  0.3449,  0.3466,  0.3485,  0.3488,  0.3493,  0.3503,\n",
       "        0.3513,  0.3536,  0.3556,  0.3592,  0.36  ,  0.363 ,  0.3663,\n",
       "        0.37  ,  0.3746,  0.3768,  0.3815,  0.3836,  0.3847,  0.3856,\n",
       "        0.3898,  0.3911,  0.3945,  0.3951,  0.3953,  0.3962,  0.3964,\n",
       "        0.4074,  0.4103,  0.411 ,  0.4128,  0.4158,  0.4179,  0.4221,\n",
       "        0.423 ,  0.4243,  0.4247,  0.4262,  0.4315,  0.4329,  0.433 ,\n",
       "        0.4339,  0.4349,  0.4391,  0.4436,  0.446 ,  0.4482,  0.4534,\n",
       "        0.4542,  0.4559,  0.4576,  0.4599,  0.4604,  0.4618,  0.4618,\n",
       "        0.4623,  0.4623,  0.4653,  0.4768,  0.4785,  0.484 ,  0.4855,\n",
       "        0.4879,  0.4895,  0.4898,  0.4918,  0.4946,  0.4958,  0.5046,\n",
       "        0.5095,  0.514 ,  0.5196,  0.521 ,  0.5243,  0.5251,  0.526 ,\n",
       "        0.5308,  0.5346,  0.5363,  0.5435,  0.5451,  0.5476,  0.5532,\n",
       "        0.5549,  0.5636,  0.5659,  0.5664,  0.5707,  0.5723,  0.5834,\n",
       "        0.5871,  0.5872,  0.5875,  0.5886,  0.5905,  0.5922,  0.5973,\n",
       "        0.5992,  0.6   ,  0.6013,  0.6031,  0.6051,  0.6089,  0.6139,\n",
       "        0.6181,  0.6194,  0.621 ,  0.626 ,  0.6374,  0.6423,  0.6463,\n",
       "        0.6468,  0.6518,  0.6526,  0.6532,  0.655 ,  0.6554,  0.6586,\n",
       "        0.6663,  0.6678,  0.6678,  0.6699,  0.6715,  0.6731,  0.6826,\n",
       "        0.6865,  0.6887,  0.6914,  0.6915,  0.6932,  0.696 ,  0.6991,\n",
       "        0.7008,  0.7055,  0.7081,  0.7117,  0.7137,  0.7222,  0.7255,\n",
       "        0.7303,  0.7358,  0.7424,  0.7541,  0.7595,  0.7614,  0.7744,\n",
       "        0.7754,  0.7757,  0.777 ,  0.7774,  0.7785,  0.7882,  0.7898,\n",
       "        0.7912,  0.7921,  0.7989,  0.7993,  0.8003,  0.8025,  0.8034,\n",
       "        0.8086,  0.8101,  0.8124,  0.8127,  0.8171,  0.8204,  0.8266,\n",
       "        0.8277,  0.8287,  0.8331,  0.8365,  0.8459,  0.849 ,  0.8492,\n",
       "        0.8534,  0.8554,  0.8575,  0.863 ,  0.8655,  0.8669,  0.873 ,\n",
       "        0.8753,  0.8785,  0.8827,  0.8929,  0.8938,  0.8969,  0.8988,\n",
       "        0.9004,  0.9036,  0.9057,  0.9078,  0.9101,  0.9141,  0.9151,\n",
       "        0.9151,  0.9185,  0.9189,  0.92  ,  0.9255,  0.9313,  0.9328,\n",
       "        0.9362,  0.9373,  0.9381,  0.9423,  0.9427,  0.9522,  0.9556,\n",
       "        0.9625,  0.9675,  0.9719,  0.9725,  0.984 ,  0.9888,  0.9956,\n",
       "        1.0055,  1.0083,  1.0099,  1.0115,  1.0156,  1.0167,  1.0178,\n",
       "        1.0185,  1.0259,  1.0351,  1.0357,  1.041 ,  1.0427,  1.045 ,\n",
       "        1.0719,  1.0757,  1.0762,  1.0822,  1.0823,  1.1026,  1.1043,\n",
       "        1.1044,  1.1063,  1.1087,  1.1125,  1.1141,  1.1167,  1.1232,\n",
       "        1.1373,  1.1449,  1.1474,  1.1502,  1.1502,  1.1598,  1.1638,\n",
       "        1.1662,  1.17  ,  1.1743,  1.1799,  1.18  ,  1.1889,  1.1923,\n",
       "        1.1977,  1.1986,  1.2029,  1.2082,  1.2147,  1.2167,  1.2199,\n",
       "        1.2243,  1.2427,  1.2444,  1.2498,  1.268 ,  1.27  ,  1.272 ,\n",
       "        1.2768,  1.2825,  1.2978,  1.3135,  1.3256,  1.3413,  1.3428,\n",
       "        1.353 ,  1.3575,  1.3756,  1.379 ,  1.3852,  1.399 ,  1.4065,\n",
       "        1.4107,  1.4146,  1.4335,  1.4389,  1.4418,  1.4486,  1.4504,\n",
       "        1.4602,  1.487 ,  1.4881,  1.506 ,  1.5115,  1.514 ,  1.5157,\n",
       "        1.5207,  1.5483,  1.5513,  1.5684,  1.5711,  1.5747,  1.577 ,\n",
       "        1.5844,  1.587 ,  1.5959,  1.6048,  1.6126,  1.621 ,  1.6304,\n",
       "        1.6345,  1.6387,  1.6428,  1.6501,  1.6504,  1.6658,  1.6812,\n",
       "        1.6855,  1.6879,  1.689 ,  1.7046,  1.7307,  1.7333,  1.7349,\n",
       "        1.7681,  1.7705,  1.7865,  1.8029,  1.8079,  1.8364,  1.8655,\n",
       "        1.8964,  1.9005,  1.9091,  1.9485,  1.9605,  1.9721,  1.9797,\n",
       "        1.9808,  1.9816,  1.9842,  1.9928,  1.9946,  1.9969,  2.0492,\n",
       "        2.0774,  2.0789,  2.0858,  2.1273,  2.1728,  2.1735,  2.1757,\n",
       "        2.1816,  2.2045,  2.2239,  2.2251,  2.227 ,  2.3837,  2.4713,\n",
       "        2.4993,  2.6215,  2.6364,  2.6622,  2.7345,  2.7751,  2.8279,\n",
       "        2.8369,  2.8621,  2.9773,  3.036 ,  3.0535,  3.2052])"
      ]
     },
     "execution_count": 116,
     "metadata": {},
     "output_type": "execute_result"
    }
   ],
   "source": [
    "large_arr.sort()\n",
    "large_arr"
   ]
  },
  {
   "cell_type": "code",
   "execution_count": 117,
   "metadata": {},
   "outputs": [
    {
     "data": {
      "text/plain": [
       "-1.6269053408333332"
      ]
     },
     "execution_count": 117,
     "metadata": {},
     "output_type": "execute_result"
    }
   ],
   "source": [
    "large_arr[int(0.05 * len(large_arr))] # 5% quantile"
   ]
  },
  {
   "cell_type": "markdown",
   "metadata": {},
   "source": [
    "### Unique and other set logic"
   ]
  },
  {
   "cell_type": "code",
   "execution_count": 118,
   "metadata": {},
   "outputs": [
    {
     "data": {
      "text/plain": [
       "array([1, 2, 3, 4])"
      ]
     },
     "execution_count": 118,
     "metadata": {},
     "output_type": "execute_result"
    }
   ],
   "source": [
    "names = np.array(['Bob', 'Joe', 'Will', 'Bob', 'Will', 'Joe', 'Joe'])\n",
    "np.unique(names)\n",
    "ints = np.array([3, 3, 3, 2, 2, 1, 1, 4, 4])\n",
    "np.unique(ints)"
   ]
  },
  {
   "cell_type": "code",
   "execution_count": 119,
   "metadata": {},
   "outputs": [
    {
     "data": {
      "text/plain": [
       "['Bob', 'Joe', 'Will']"
      ]
     },
     "execution_count": 119,
     "metadata": {},
     "output_type": "execute_result"
    }
   ],
   "source": [
    "sorted(set(names))"
   ]
  },
  {
   "cell_type": "code",
   "execution_count": 120,
   "metadata": {},
   "outputs": [
    {
     "data": {
      "text/plain": [
       "array([ True, False, False,  True,  True, False,  True], dtype=bool)"
      ]
     },
     "execution_count": 120,
     "metadata": {},
     "output_type": "execute_result"
    }
   ],
   "source": [
    "values = np.array([6, 0, 0, 3, 2, 5, 6])\n",
    "np.in1d(values, [2, 3, 6])"
   ]
  },
  {
   "cell_type": "markdown",
   "metadata": {},
   "source": [
    "## File input and output with arrays"
   ]
  },
  {
   "cell_type": "markdown",
   "metadata": {},
   "source": [
    "### Storing arrays on disk in binary format"
   ]
  },
  {
   "cell_type": "code",
   "execution_count": 121,
   "metadata": {
    "collapsed": true
   },
   "outputs": [],
   "source": [
    "arr = np.arange(10)\n",
    "np.save('some_array', arr)"
   ]
  },
  {
   "cell_type": "code",
   "execution_count": 122,
   "metadata": {},
   "outputs": [
    {
     "data": {
      "text/plain": [
       "array([0, 1, 2, 3, 4, 5, 6, 7, 8, 9])"
      ]
     },
     "execution_count": 122,
     "metadata": {},
     "output_type": "execute_result"
    }
   ],
   "source": [
    "np.load('some_array.npy')"
   ]
  },
  {
   "cell_type": "code",
   "execution_count": 123,
   "metadata": {
    "collapsed": true
   },
   "outputs": [],
   "source": [
    "np.savez('array_archive.npz', a=arr, b=arr)"
   ]
  },
  {
   "cell_type": "code",
   "execution_count": 124,
   "metadata": {},
   "outputs": [
    {
     "data": {
      "text/plain": [
       "array([0, 1, 2, 3, 4, 5, 6, 7, 8, 9])"
      ]
     },
     "execution_count": 124,
     "metadata": {},
     "output_type": "execute_result"
    }
   ],
   "source": [
    "arch = np.load('array_archive.npz')\n",
    "arch['b']"
   ]
  },
  {
   "cell_type": "code",
   "execution_count": 125,
   "metadata": {
    "collapsed": true
   },
   "outputs": [],
   "source": [
    "!rm some_array.npy\n",
    "!rm array_archive.npz"
   ]
  },
  {
   "cell_type": "markdown",
   "metadata": {},
   "source": [
    "### Saving and loading text files"
   ]
  },
  {
   "cell_type": "code",
   "execution_count": 126,
   "metadata": {},
   "outputs": [
    {
     "name": "stdout",
     "output_type": "stream",
     "text": [
      "cat: array_ex.txt: No such file or directory\r\n"
     ]
    }
   ],
   "source": [
    "!cat array_ex.txt"
   ]
  },
  {
   "cell_type": "code",
   "execution_count": 127,
   "metadata": {},
   "outputs": [
    {
     "ename": "IOError",
     "evalue": "[Errno 2] No such file or directory: 'array_ex.txt'",
     "output_type": "error",
     "traceback": [
      "\u001b[0;31m---------------------------------------------------------------------------\u001b[0m",
      "\u001b[0;31mIOError\u001b[0m                                   Traceback (most recent call last)",
      "\u001b[0;32m<ipython-input-127-f1ae2776f7a1>\u001b[0m in \u001b[0;36m<module>\u001b[0;34m()\u001b[0m\n\u001b[0;32m----> 1\u001b[0;31m \u001b[0marr\u001b[0m \u001b[0;34m=\u001b[0m \u001b[0mnp\u001b[0m\u001b[0;34m.\u001b[0m\u001b[0mloadtxt\u001b[0m\u001b[0;34m(\u001b[0m\u001b[0;34m'array_ex.txt'\u001b[0m\u001b[0;34m,\u001b[0m \u001b[0mdelimiter\u001b[0m\u001b[0;34m=\u001b[0m\u001b[0;34m','\u001b[0m\u001b[0;34m)\u001b[0m\u001b[0;34m\u001b[0m\u001b[0m\n\u001b[0m\u001b[1;32m      2\u001b[0m \u001b[0marr\u001b[0m\u001b[0;34m\u001b[0m\u001b[0m\n",
      "\u001b[0;32m/Users/rwang/.virtualenvs/test/lib/python2.7/site-packages/numpy/lib/npyio.pyc\u001b[0m in \u001b[0;36mloadtxt\u001b[0;34m(fname, dtype, comments, delimiter, converters, skiprows, usecols, unpack, ndmin)\u001b[0m\n\u001b[1;32m    894\u001b[0m                 \u001b[0mfh\u001b[0m \u001b[0;34m=\u001b[0m \u001b[0miter\u001b[0m\u001b[0;34m(\u001b[0m\u001b[0mbz2\u001b[0m\u001b[0;34m.\u001b[0m\u001b[0mBZ2File\u001b[0m\u001b[0;34m(\u001b[0m\u001b[0mfname\u001b[0m\u001b[0;34m)\u001b[0m\u001b[0;34m)\u001b[0m\u001b[0;34m\u001b[0m\u001b[0m\n\u001b[1;32m    895\u001b[0m             \u001b[0;32melif\u001b[0m \u001b[0msys\u001b[0m\u001b[0;34m.\u001b[0m\u001b[0mversion_info\u001b[0m\u001b[0;34m[\u001b[0m\u001b[0;36m0\u001b[0m\u001b[0;34m]\u001b[0m \u001b[0;34m==\u001b[0m \u001b[0;36m2\u001b[0m\u001b[0;34m:\u001b[0m\u001b[0;34m\u001b[0m\u001b[0m\n\u001b[0;32m--> 896\u001b[0;31m                 \u001b[0mfh\u001b[0m \u001b[0;34m=\u001b[0m \u001b[0miter\u001b[0m\u001b[0;34m(\u001b[0m\u001b[0mopen\u001b[0m\u001b[0;34m(\u001b[0m\u001b[0mfname\u001b[0m\u001b[0;34m,\u001b[0m \u001b[0;34m'U'\u001b[0m\u001b[0;34m)\u001b[0m\u001b[0;34m)\u001b[0m\u001b[0;34m\u001b[0m\u001b[0m\n\u001b[0m\u001b[1;32m    897\u001b[0m             \u001b[0;32melse\u001b[0m\u001b[0;34m:\u001b[0m\u001b[0;34m\u001b[0m\u001b[0m\n\u001b[1;32m    898\u001b[0m                 \u001b[0mfh\u001b[0m \u001b[0;34m=\u001b[0m \u001b[0miter\u001b[0m\u001b[0;34m(\u001b[0m\u001b[0mopen\u001b[0m\u001b[0;34m(\u001b[0m\u001b[0mfname\u001b[0m\u001b[0;34m)\u001b[0m\u001b[0;34m)\u001b[0m\u001b[0;34m\u001b[0m\u001b[0m\n",
      "\u001b[0;31mIOError\u001b[0m: [Errno 2] No such file or directory: 'array_ex.txt'"
     ]
    }
   ],
   "source": [
    "arr = np.loadtxt('array_ex.txt', delimiter=',')\n",
    "arr"
   ]
  },
  {
   "cell_type": "markdown",
   "metadata": {},
   "source": [
    "## Linear algebra"
   ]
  },
  {
   "cell_type": "code",
   "execution_count": 129,
   "metadata": {},
   "outputs": [
    {
     "data": {
      "text/plain": [
       "array([[  28.,   64.],\n",
       "       [  67.,  181.]])"
      ]
     },
     "execution_count": 129,
     "metadata": {},
     "output_type": "execute_result"
    }
   ],
   "source": [
    "x = np.array([[1., 2., 3.], [4., 5., 6.]])\n",
    "y = np.array([[6., 23.], [-1, 7], [8, 9]])\n",
    "x\n",
    "y\n",
    "x.dot(y)  # equivalently np.dot(x, y)"
   ]
  },
  {
   "cell_type": "code",
   "execution_count": 131,
   "metadata": {},
   "outputs": [
    {
     "data": {
      "text/plain": [
       "(3,)"
      ]
     },
     "execution_count": 131,
     "metadata": {},
     "output_type": "execute_result"
    }
   ],
   "source": [
    "np.ones(3).shape"
   ]
  },
  {
   "cell_type": "code",
   "execution_count": 132,
   "metadata": {},
   "outputs": [
    {
     "data": {
      "text/plain": [
       "array([  6.,  15.])"
      ]
     },
     "execution_count": 132,
     "metadata": {},
     "output_type": "execute_result"
    }
   ],
   "source": [
    "np.dot(x, np.ones(3))"
   ]
  },
  {
   "cell_type": "code",
   "execution_count": 133,
   "metadata": {
    "collapsed": true
   },
   "outputs": [],
   "source": [
    "np.random.seed(12345)"
   ]
  },
  {
   "cell_type": "code",
   "execution_count": 134,
   "metadata": {},
   "outputs": [
    {
     "data": {
      "text/plain": [
       "array([[ -6.9271,   7.389 ,   6.1227,  -7.1163,  -4.9215],\n",
       "       [  0.    ,  -3.9735,  -0.8671,   2.9747,  -5.7402],\n",
       "       [  0.    ,   0.    , -10.2681,   1.8909,   1.6079],\n",
       "       [  0.    ,   0.    ,   0.    ,  -1.2996,   3.3577],\n",
       "       [  0.    ,   0.    ,   0.    ,   0.    ,   0.5571]])"
      ]
     },
     "execution_count": 134,
     "metadata": {},
     "output_type": "execute_result"
    }
   ],
   "source": [
    "from numpy.linalg import inv, qr\n",
    "X = randn(5, 5)\n",
    "mat = X.T.dot(X)\n",
    "inv(mat)\n",
    "mat.dot(inv(mat))\n",
    "q, r = qr(mat)\n",
    "r"
   ]
  },
  {
   "cell_type": "markdown",
   "metadata": {},
   "source": [
    "## Random number generation"
   ]
  },
  {
   "cell_type": "code",
   "execution_count": 135,
   "metadata": {},
   "outputs": [
    {
     "data": {
      "text/plain": [
       "array([[ 0.1241,  0.3026,  0.5238,  0.0009],\n",
       "       [ 1.3438, -0.7135, -0.8312, -2.3702],\n",
       "       [-1.8608, -0.8608,  0.5601, -1.2659],\n",
       "       [ 0.1198, -1.0635,  0.3329, -2.3594]])"
      ]
     },
     "execution_count": 135,
     "metadata": {},
     "output_type": "execute_result"
    }
   ],
   "source": [
    "samples = np.random.normal(size=(4, 4))\n",
    "samples"
   ]
  },
  {
   "cell_type": "code",
   "execution_count": 136,
   "metadata": {},
   "outputs": [
    {
     "name": "stdout",
     "output_type": "stream",
     "text": [
      "1 loop, best of 3: 2.31 s per loop\n",
      "10 loops, best of 3: 43.7 ms per loop\n"
     ]
    }
   ],
   "source": [
    "from random import normalvariate\n",
    "N = 1000000\n",
    "%timeit samples = [normalvariate(0, 1) for _ in xrange(N)]\n",
    "%timeit np.random.normal(size=N)"
   ]
  },
  {
   "cell_type": "markdown",
   "metadata": {},
   "source": [
    "## Example: Random Walks"
   ]
  },
  {
   "cell_type": "raw",
   "metadata": {},
   "source": [
    "import random\n",
    "position = 0\n",
    "walk = [position]\n",
    "steps = 1000\n",
    "for i in xrange(steps):\n",
    "    step = 1 if random.randint(0, 1) else -1\n",
    "    position += step\n",
    "    walk.append(position)"
   ]
  },
  {
   "cell_type": "code",
   "execution_count": 137,
   "metadata": {
    "collapsed": true
   },
   "outputs": [],
   "source": [
    "np.random.seed(12345)"
   ]
  },
  {
   "cell_type": "code",
   "execution_count": 138,
   "metadata": {
    "collapsed": true
   },
   "outputs": [],
   "source": [
    "nsteps = 1000\n",
    "draws = np.random.randint(0, 2, size=nsteps)\n",
    "steps = np.where(draws > 0, 1, -1)\n",
    "walk = steps.cumsum()"
   ]
  },
  {
   "cell_type": "code",
   "execution_count": 139,
   "metadata": {},
   "outputs": [
    {
     "data": {
      "text/plain": [
       "31"
      ]
     },
     "execution_count": 139,
     "metadata": {},
     "output_type": "execute_result"
    }
   ],
   "source": [
    "walk.min()\n",
    "walk.max()"
   ]
  },
  {
   "cell_type": "code",
   "execution_count": 140,
   "metadata": {},
   "outputs": [
    {
     "data": {
      "text/plain": [
       "37"
      ]
     },
     "execution_count": 140,
     "metadata": {},
     "output_type": "execute_result"
    }
   ],
   "source": [
    "(np.abs(walk) >= 10).argmax()"
   ]
  },
  {
   "cell_type": "markdown",
   "metadata": {},
   "source": [
    "### Simulating many random walks at once"
   ]
  },
  {
   "cell_type": "code",
   "execution_count": 141,
   "metadata": {},
   "outputs": [
    {
     "data": {
      "text/plain": [
       "array([[  1,   0,   1, ...,   8,   7,   8],\n",
       "       [  1,   0,  -1, ...,  34,  33,  32],\n",
       "       [  1,   0,  -1, ...,   4,   5,   4],\n",
       "       ..., \n",
       "       [  1,   2,   1, ...,  24,  25,  26],\n",
       "       [  1,   2,   3, ...,  14,  13,  14],\n",
       "       [ -1,  -2,  -3, ..., -24, -23, -22]])"
      ]
     },
     "execution_count": 141,
     "metadata": {},
     "output_type": "execute_result"
    }
   ],
   "source": [
    "nwalks = 5000\n",
    "nsteps = 1000\n",
    "draws = np.random.randint(0, 2, size=(nwalks, nsteps)) # 0 or 1\n",
    "steps = np.where(draws > 0, 1, -1)\n",
    "walks = steps.cumsum(1)\n",
    "walks"
   ]
  },
  {
   "cell_type": "code",
   "execution_count": 142,
   "metadata": {},
   "outputs": [
    {
     "data": {
      "text/plain": [
       "-133"
      ]
     },
     "execution_count": 142,
     "metadata": {},
     "output_type": "execute_result"
    }
   ],
   "source": [
    "walks.max()\n",
    "walks.min()"
   ]
  },
  {
   "cell_type": "code",
   "execution_count": 143,
   "metadata": {},
   "outputs": [
    {
     "data": {
      "text/plain": [
       "3410"
      ]
     },
     "execution_count": 143,
     "metadata": {},
     "output_type": "execute_result"
    }
   ],
   "source": [
    "hits30 = (np.abs(walks) >= 30).any(1)\n",
    "hits30\n",
    "hits30.sum() # Number that hit 30 or -30"
   ]
  },
  {
   "cell_type": "code",
   "execution_count": 144,
   "metadata": {},
   "outputs": [
    {
     "data": {
      "text/plain": [
       "498.88973607038122"
      ]
     },
     "execution_count": 144,
     "metadata": {},
     "output_type": "execute_result"
    }
   ],
   "source": [
    "crossing_times = (np.abs(walks[hits30]) >= 30).argmax(1)\n",
    "crossing_times.mean()"
   ]
  },
  {
   "cell_type": "code",
   "execution_count": 145,
   "metadata": {
    "collapsed": true
   },
   "outputs": [],
   "source": [
    "steps = np.random.normal(loc=0, scale=0.25,\n",
    "                         size=(nwalks, nsteps))"
   ]
  },
  {
   "cell_type": "code",
   "execution_count": null,
   "metadata": {
    "collapsed": true
   },
   "outputs": [],
   "source": []
  }
 ],
 "metadata": {
  "kernelspec": {
   "display_name": "Python 2",
   "language": "python",
   "name": "python2"
  },
  "language_info": {
   "codemirror_mode": {
    "name": "ipython",
    "version": 2
   },
   "file_extension": ".py",
   "mimetype": "text/x-python",
   "name": "python",
   "nbconvert_exporter": "python",
   "pygments_lexer": "ipython2",
   "version": "2.7.13"
  }
 },
 "nbformat": 4,
 "nbformat_minor": 1
}
