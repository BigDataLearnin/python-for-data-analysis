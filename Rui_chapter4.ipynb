{
 "cells": [
  {
   "cell_type": "markdown",
   "metadata": {},
   "source": [
    "# NumPy Basics: Arrays and Vectorized Computation"
   ]
  },
  {
   "cell_type": "code",
   "execution_count": 1,
   "metadata": {
    "collapsed": true
   },
   "outputs": [],
   "source": [
    "%matplotlib inline"
   ]
  },
  {
   "cell_type": "code",
   "execution_count": 2,
   "metadata": {
    "collapsed": true
   },
   "outputs": [],
   "source": [
    "from __future__ import division\n",
    "from numpy.random import randn\n",
    "import numpy as np\n",
    "np.set_printoptions(precision=4, suppress=True)"
   ]
  },
  {
   "cell_type": "markdown",
   "metadata": {},
   "source": [
    "## The NumPy ndarray: a multidimensional array object"
   ]
  },
  {
   "cell_type": "code",
   "execution_count": 3,
   "metadata": {
    "collapsed": true
   },
   "outputs": [],
   "source": [
    "data = randn(2, 3)"
   ]
  },
  {
   "cell_type": "code",
   "execution_count": 4,
   "metadata": {},
   "outputs": [
    {
     "data": {
      "text/plain": [
       "array([[-1.3369,  2.0877, -1.7178],\n",
       "       [ 1.4295, -0.0966,  2.2506]])"
      ]
     },
     "execution_count": 4,
     "metadata": {},
     "output_type": "execute_result"
    }
   ],
   "source": [
    "data\n",
    "data * 10\n",
    "data + data"
   ]
  },
  {
   "cell_type": "code",
   "execution_count": 5,
   "metadata": {},
   "outputs": [
    {
     "data": {
      "text/plain": [
       "dtype('float64')"
      ]
     },
     "execution_count": 5,
     "metadata": {},
     "output_type": "execute_result"
    }
   ],
   "source": [
    "data.shape\n",
    "data.dtype"
   ]
  },
  {
   "cell_type": "markdown",
   "metadata": {},
   "source": [
    "### Creating ndarrays"
   ]
  },
  {
   "cell_type": "code",
   "execution_count": 6,
   "metadata": {},
   "outputs": [
    {
     "data": {
      "text/plain": [
       "array([ 6. ,  7.5,  8. ,  0. ,  1. ])"
      ]
     },
     "execution_count": 6,
     "metadata": {},
     "output_type": "execute_result"
    }
   ],
   "source": [
    "data1 = [6, 7.5, 8, 0, 1]\n",
    "arr1 = np.array(data1)\n",
    "arr1"
   ]
  },
  {
   "cell_type": "code",
   "execution_count": 7,
   "metadata": {},
   "outputs": [
    {
     "data": {
      "text/plain": [
       "(2, 4)"
      ]
     },
     "execution_count": 7,
     "metadata": {},
     "output_type": "execute_result"
    }
   ],
   "source": [
    "data2 = [[1, 2, 3, 4], [5, 6, 7, 8]]\n",
    "arr2 = np.array(data2)\n",
    "arr2\n",
    "arr2.ndim\n",
    "arr2.shape"
   ]
  },
  {
   "cell_type": "code",
   "execution_count": 8,
   "metadata": {},
   "outputs": [
    {
     "data": {
      "text/plain": [
       "dtype('int64')"
      ]
     },
     "execution_count": 8,
     "metadata": {},
     "output_type": "execute_result"
    }
   ],
   "source": [
    "arr1.dtype\n",
    "arr2.dtype"
   ]
  },
  {
   "cell_type": "code",
   "execution_count": 9,
   "metadata": {},
   "outputs": [
    {
     "data": {
      "text/plain": [
       "array([[[ 2., -0.],\n",
       "        [ 0.,  0.],\n",
       "        [ 0.,  0.]],\n",
       "\n",
       "       [[ 2.,  0.],\n",
       "        [ 0.,  0.],\n",
       "        [ 2.,  2.]]])"
      ]
     },
     "execution_count": 9,
     "metadata": {},
     "output_type": "execute_result"
    }
   ],
   "source": [
    "np.zeros(10)\n",
    "np.zeros((3, 6))\n",
    "np.empty((2, 3, 2))"
   ]
  },
  {
   "cell_type": "code",
   "execution_count": 10,
   "metadata": {},
   "outputs": [
    {
     "data": {
      "text/plain": [
       "array([ 0,  1,  2,  3,  4,  5,  6,  7,  8,  9, 10, 11, 12, 13, 14])"
      ]
     },
     "execution_count": 10,
     "metadata": {},
     "output_type": "execute_result"
    }
   ],
   "source": [
    "np.arange(15)"
   ]
  },
  {
   "cell_type": "markdown",
   "metadata": {},
   "source": [
    "### Data Types for ndarrays"
   ]
  },
  {
   "cell_type": "code",
   "execution_count": 11,
   "metadata": {},
   "outputs": [
    {
     "data": {
      "text/plain": [
       "dtype('int32')"
      ]
     },
     "execution_count": 11,
     "metadata": {},
     "output_type": "execute_result"
    }
   ],
   "source": [
    "arr1 = np.array([1, 2, 3], dtype=np.float64)\n",
    "arr2 = np.array([1, 2, 3], dtype=np.int32)\n",
    "arr1.dtype\n",
    "arr2.dtype"
   ]
  },
  {
   "cell_type": "code",
   "execution_count": 12,
   "metadata": {},
   "outputs": [
    {
     "data": {
      "text/plain": [
       "dtype('float64')"
      ]
     },
     "execution_count": 12,
     "metadata": {},
     "output_type": "execute_result"
    }
   ],
   "source": [
    "arr = np.array([1, 2, 3, 4, 5])\n",
    "arr.dtype\n",
    "float_arr = arr.astype(np.float64)\n",
    "float_arr.dtype"
   ]
  },
  {
   "cell_type": "code",
   "execution_count": 13,
   "metadata": {},
   "outputs": [
    {
     "data": {
      "text/plain": [
       "array([ 3, -1, -2,  0, 12, 10], dtype=int32)"
      ]
     },
     "execution_count": 13,
     "metadata": {},
     "output_type": "execute_result"
    }
   ],
   "source": [
    "arr = np.array([3.7, -1.2, -2.6, 0.5, 12.9, 10.1])\n",
    "arr\n",
    "arr.astype(np.int32)"
   ]
  },
  {
   "cell_type": "code",
   "execution_count": 14,
   "metadata": {},
   "outputs": [
    {
     "data": {
      "text/plain": [
       "array([  1.25,  -9.6 ,  42.  ])"
      ]
     },
     "execution_count": 14,
     "metadata": {},
     "output_type": "execute_result"
    }
   ],
   "source": [
    "numeric_strings = np.array(['1.25', '-9.6', '42'], dtype=np.string_)\n",
    "numeric_strings.astype(float)"
   ]
  },
  {
   "cell_type": "code",
   "execution_count": 15,
   "metadata": {},
   "outputs": [
    {
     "data": {
      "text/plain": [
       "array([ 0.,  1.,  2.,  3.,  4.,  5.,  6.,  7.,  8.,  9.])"
      ]
     },
     "execution_count": 15,
     "metadata": {},
     "output_type": "execute_result"
    }
   ],
   "source": [
    "int_array = np.arange(10)\n",
    "calibers = np.array([.22, .270, .357, .380, .44, .50], dtype=np.float64)\n",
    "int_array.astype(calibers.dtype)"
   ]
  },
  {
   "cell_type": "code",
   "execution_count": 16,
   "metadata": {},
   "outputs": [
    {
     "data": {
      "text/plain": [
       "array([         0, 1075314688,          0, 1075707904,          0,\n",
       "       1075838976,          0, 1072693248], dtype=uint32)"
      ]
     },
     "execution_count": 16,
     "metadata": {},
     "output_type": "execute_result"
    }
   ],
   "source": [
    "empty_uint32 = np.empty(8, dtype='u4')\n",
    "empty_uint32"
   ]
  },
  {
   "cell_type": "markdown",
   "metadata": {},
   "source": [
    "### Operations between arrays and scalars"
   ]
  },
  {
   "cell_type": "code",
   "execution_count": 17,
   "metadata": {},
   "outputs": [
    {
     "data": {
      "text/plain": [
       "array([[ 0.,  0.,  0.],\n",
       "       [ 0.,  0.,  0.]])"
      ]
     },
     "execution_count": 17,
     "metadata": {},
     "output_type": "execute_result"
    }
   ],
   "source": [
    "arr = np.array([[1., 2., 3.], [4., 5., 6.]])\n",
    "arr\n",
    "arr * arr\n",
    "arr - arr"
   ]
  },
  {
   "cell_type": "code",
   "execution_count": 18,
   "metadata": {},
   "outputs": [
    {
     "data": {
      "text/plain": [
       "array([[ 1.    ,  1.4142,  1.7321],\n",
       "       [ 2.    ,  2.2361,  2.4495]])"
      ]
     },
     "execution_count": 18,
     "metadata": {},
     "output_type": "execute_result"
    }
   ],
   "source": [
    "1 / arr\n",
    "arr ** 0.5"
   ]
  },
  {
   "cell_type": "markdown",
   "metadata": {},
   "source": [
    "### Basic indexing and slicing"
   ]
  },
  {
   "cell_type": "code",
   "execution_count": 19,
   "metadata": {},
   "outputs": [
    {
     "data": {
      "text/plain": [
       "array([ 0,  1,  2,  3,  4, 12, 12, 12,  8,  9])"
      ]
     },
     "execution_count": 19,
     "metadata": {},
     "output_type": "execute_result"
    }
   ],
   "source": [
    "arr = np.arange(10)\n",
    "arr\n",
    "arr[5]\n",
    "arr[5:8]\n",
    "arr[5:8] = 12\n",
    "arr"
   ]
  },
  {
   "cell_type": "code",
   "execution_count": 20,
   "metadata": {},
   "outputs": [
    {
     "data": {
      "text/plain": [
       "array([ 0,  1,  2,  3,  4, 64, 64, 64,  8,  9])"
      ]
     },
     "execution_count": 20,
     "metadata": {},
     "output_type": "execute_result"
    }
   ],
   "source": [
    "arr_slice = arr[5:8]\n",
    "arr_slice[1] = 12345\n",
    "arr\n",
    "arr_slice[:] = 64\n",
    "arr"
   ]
  },
  {
   "cell_type": "code",
   "execution_count": 21,
   "metadata": {},
   "outputs": [
    {
     "data": {
      "text/plain": [
       "array([7, 8, 9])"
      ]
     },
     "execution_count": 21,
     "metadata": {},
     "output_type": "execute_result"
    }
   ],
   "source": [
    "arr2d = np.array([[1, 2, 3], [4, 5, 6], [7, 8, 9]])\n",
    "arr2d[2]"
   ]
  },
  {
   "cell_type": "code",
   "execution_count": 22,
   "metadata": {},
   "outputs": [
    {
     "data": {
      "text/plain": [
       "3"
      ]
     },
     "execution_count": 22,
     "metadata": {},
     "output_type": "execute_result"
    }
   ],
   "source": [
    "arr2d[0][2]\n",
    "arr2d[0, 2]"
   ]
  },
  {
   "cell_type": "code",
   "execution_count": 23,
   "metadata": {},
   "outputs": [
    {
     "data": {
      "text/plain": [
       "array([[[ 1,  2,  3],\n",
       "        [ 4,  5,  6]],\n",
       "\n",
       "       [[ 7,  8,  9],\n",
       "        [10, 11, 12]]])"
      ]
     },
     "execution_count": 23,
     "metadata": {},
     "output_type": "execute_result"
    }
   ],
   "source": [
    "arr3d = np.array([[[1, 2, 3], [4, 5, 6]], [[7, 8, 9], [10, 11, 12]]])\n",
    "arr3d"
   ]
  },
  {
   "cell_type": "code",
   "execution_count": 24,
   "metadata": {},
   "outputs": [
    {
     "data": {
      "text/plain": [
       "array([[1, 2, 3],\n",
       "       [4, 5, 6]])"
      ]
     },
     "execution_count": 24,
     "metadata": {},
     "output_type": "execute_result"
    }
   ],
   "source": [
    "arr3d[0]"
   ]
  },
  {
   "cell_type": "code",
   "execution_count": 25,
   "metadata": {},
   "outputs": [
    {
     "data": {
      "text/plain": [
       "array([[[ 1,  2,  3],\n",
       "        [ 4,  5,  6]],\n",
       "\n",
       "       [[ 7,  8,  9],\n",
       "        [10, 11, 12]]])"
      ]
     },
     "execution_count": 25,
     "metadata": {},
     "output_type": "execute_result"
    }
   ],
   "source": [
    "old_values = arr3d[0].copy()\n",
    "arr3d[0] = 42\n",
    "arr3d\n",
    "arr3d[0] = old_values\n",
    "arr3d"
   ]
  },
  {
   "cell_type": "code",
   "execution_count": 26,
   "metadata": {},
   "outputs": [
    {
     "data": {
      "text/plain": [
       "array([7, 8, 9])"
      ]
     },
     "execution_count": 26,
     "metadata": {},
     "output_type": "execute_result"
    }
   ],
   "source": [
    "arr3d[1, 0]"
   ]
  },
  {
   "cell_type": "markdown",
   "metadata": {},
   "source": [
    "## Indexing with slices"
   ]
  },
  {
   "cell_type": "code",
   "execution_count": 27,
   "metadata": {},
   "outputs": [
    {
     "data": {
      "text/plain": [
       "array([ 1,  2,  3,  4, 64])"
      ]
     },
     "execution_count": 27,
     "metadata": {},
     "output_type": "execute_result"
    }
   ],
   "source": [
    "arr[1:6]"
   ]
  },
  {
   "cell_type": "code",
   "execution_count": 28,
   "metadata": {},
   "outputs": [
    {
     "data": {
      "text/plain": [
       "array([[1, 2, 3],\n",
       "       [4, 5, 6]])"
      ]
     },
     "execution_count": 28,
     "metadata": {},
     "output_type": "execute_result"
    }
   ],
   "source": [
    "arr2d\n",
    "arr2d[:2]"
   ]
  },
  {
   "cell_type": "code",
   "execution_count": 29,
   "metadata": {},
   "outputs": [
    {
     "data": {
      "text/plain": [
       "array([[2, 3],\n",
       "       [5, 6]])"
      ]
     },
     "execution_count": 29,
     "metadata": {},
     "output_type": "execute_result"
    }
   ],
   "source": [
    "arr2d[:2, 1:]"
   ]
  },
  {
   "cell_type": "code",
   "execution_count": 30,
   "metadata": {},
   "outputs": [
    {
     "data": {
      "text/plain": [
       "array([7])"
      ]
     },
     "execution_count": 30,
     "metadata": {},
     "output_type": "execute_result"
    }
   ],
   "source": [
    "arr2d[1, :2]\n",
    "arr2d[2, :1]"
   ]
  },
  {
   "cell_type": "code",
   "execution_count": 31,
   "metadata": {},
   "outputs": [
    {
     "data": {
      "text/plain": [
       "array([[1],\n",
       "       [4],\n",
       "       [7]])"
      ]
     },
     "execution_count": 31,
     "metadata": {},
     "output_type": "execute_result"
    }
   ],
   "source": [
    "arr2d[:, :1]"
   ]
  },
  {
   "cell_type": "code",
   "execution_count": 32,
   "metadata": {
    "collapsed": true
   },
   "outputs": [],
   "source": [
    "arr2d[:2, 1:] = 0"
   ]
  },
  {
   "cell_type": "markdown",
   "metadata": {},
   "source": [
    "### Boolean indexing"
   ]
  },
  {
   "cell_type": "code",
   "execution_count": 33,
   "metadata": {
    "collapsed": true
   },
   "outputs": [],
   "source": [
    "names = np.array(['Bob', 'Joe', 'Will', 'Bob', 'Will', 'Joe', 'Joe'])\n",
    "data = randn(7, 4)\n"
   ]
  },
  {
   "cell_type": "code",
   "execution_count": 34,
   "metadata": {},
   "outputs": [
    {
     "data": {
      "text/plain": [
       "array(['Bob', 'Joe', 'Will', 'Bob', 'Will', 'Joe', 'Joe'],\n",
       "      dtype='|S4')"
      ]
     },
     "execution_count": 34,
     "metadata": {},
     "output_type": "execute_result"
    }
   ],
   "source": [
    "names\n"
   ]
  },
  {
   "cell_type": "code",
   "execution_count": 35,
   "metadata": {},
   "outputs": [
    {
     "data": {
      "text/plain": [
       "array([[-0.1547, -0.1573,  0.071 , -2.1496],\n",
       "       [ 0.6685,  0.7699,  0.8669, -0.4609],\n",
       "       [ 0.4936,  0.1341, -0.6402,  0.7786],\n",
       "       [-1.3811,  0.8229,  0.8419,  2.6448],\n",
       "       [-0.1436, -0.3611,  0.3902,  0.1794],\n",
       "       [-1.4821, -0.0225, -0.0887,  0.5031],\n",
       "       [ 0.092 ,  0.3652, -0.9965, -0.6209]])"
      ]
     },
     "execution_count": 35,
     "metadata": {},
     "output_type": "execute_result"
    }
   ],
   "source": [
    "data"
   ]
  },
  {
   "cell_type": "code",
   "execution_count": 36,
   "metadata": {},
   "outputs": [
    {
     "data": {
      "text/plain": [
       "array([ True, False, False,  True, False, False, False], dtype=bool)"
      ]
     },
     "execution_count": 36,
     "metadata": {},
     "output_type": "execute_result"
    }
   ],
   "source": [
    "names == 'Bob'"
   ]
  },
  {
   "cell_type": "code",
   "execution_count": 37,
   "metadata": {},
   "outputs": [
    {
     "data": {
      "text/plain": [
       "array([[-0.1547, -0.1573,  0.071 , -2.1496],\n",
       "       [-1.3811,  0.8229,  0.8419,  2.6448]])"
      ]
     },
     "execution_count": 37,
     "metadata": {},
     "output_type": "execute_result"
    }
   ],
   "source": [
    "data[names == 'Bob']"
   ]
  },
  {
   "cell_type": "code",
   "execution_count": 38,
   "metadata": {},
   "outputs": [
    {
     "data": {
      "text/plain": [
       "array([-2.1496,  2.6448])"
      ]
     },
     "execution_count": 38,
     "metadata": {},
     "output_type": "execute_result"
    }
   ],
   "source": [
    "data[names == 'Bob', 2:]\n",
    "data[names == 'Bob', 3]"
   ]
  },
  {
   "cell_type": "code",
   "execution_count": 39,
   "metadata": {},
   "outputs": [
    {
     "data": {
      "text/plain": [
       "array([False,  True,  True, False,  True,  True,  True], dtype=bool)"
      ]
     },
     "execution_count": 39,
     "metadata": {},
     "output_type": "execute_result"
    }
   ],
   "source": [
    "names != 'Bob'\n"
   ]
  },
  {
   "cell_type": "code",
   "execution_count": 40,
   "metadata": {},
   "outputs": [
    {
     "data": {
      "text/plain": [
       "array([[ 0.6685,  0.7699,  0.8669, -0.4609],\n",
       "       [ 0.4936,  0.1341, -0.6402,  0.7786],\n",
       "       [-0.1436, -0.3611,  0.3902,  0.1794],\n",
       "       [-1.4821, -0.0225, -0.0887,  0.5031],\n",
       "       [ 0.092 ,  0.3652, -0.9965, -0.6209]])"
      ]
     },
     "execution_count": 40,
     "metadata": {},
     "output_type": "execute_result"
    }
   ],
   "source": [
    "data[names != 'Bob']"
   ]
  },
  {
   "cell_type": "code",
   "execution_count": 41,
   "metadata": {},
   "outputs": [
    {
     "data": {
      "text/plain": [
       "array([[-0.1547, -0.1573,  0.071 , -2.1496],\n",
       "       [ 0.4936,  0.1341, -0.6402,  0.7786],\n",
       "       [-1.3811,  0.8229,  0.8419,  2.6448],\n",
       "       [-0.1436, -0.3611,  0.3902,  0.1794]])"
      ]
     },
     "execution_count": 41,
     "metadata": {},
     "output_type": "execute_result"
    }
   ],
   "source": [
    "mask = (names == 'Bob') | (names == 'Will')\n",
    "mask\n",
    "data[mask]"
   ]
  },
  {
   "cell_type": "code",
   "execution_count": 42,
   "metadata": {},
   "outputs": [
    {
     "data": {
      "text/plain": [
       "array([[ 0.    ,  0.    ,  0.071 ,  0.    ],\n",
       "       [ 0.6685,  0.7699,  0.8669,  0.    ],\n",
       "       [ 0.4936,  0.1341,  0.    ,  0.7786],\n",
       "       [ 0.    ,  0.8229,  0.8419,  2.6448],\n",
       "       [ 0.    ,  0.    ,  0.3902,  0.1794],\n",
       "       [ 0.    ,  0.    ,  0.    ,  0.5031],\n",
       "       [ 0.092 ,  0.3652,  0.    ,  0.    ]])"
      ]
     },
     "execution_count": 42,
     "metadata": {},
     "output_type": "execute_result"
    }
   ],
   "source": [
    "data[data < 0] = 0\n",
    "data"
   ]
  },
  {
   "cell_type": "code",
   "execution_count": 43,
   "metadata": {},
   "outputs": [
    {
     "data": {
      "text/plain": [
       "array([[ 7.    ,  7.    ,  7.    ,  7.    ],\n",
       "       [ 0.6685,  0.7699,  0.8669,  0.    ],\n",
       "       [ 7.    ,  7.    ,  7.    ,  7.    ],\n",
       "       [ 7.    ,  7.    ,  7.    ,  7.    ],\n",
       "       [ 7.    ,  7.    ,  7.    ,  7.    ],\n",
       "       [ 0.    ,  0.    ,  0.    ,  0.5031],\n",
       "       [ 0.092 ,  0.3652,  0.    ,  0.    ]])"
      ]
     },
     "execution_count": 43,
     "metadata": {},
     "output_type": "execute_result"
    }
   ],
   "source": [
    "data[names != 'Joe'] = 7\n",
    "data"
   ]
  },
  {
   "cell_type": "markdown",
   "metadata": {},
   "source": [
    "### Fancy indexing"
   ]
  },
  {
   "cell_type": "code",
   "execution_count": 44,
   "metadata": {},
   "outputs": [
    {
     "data": {
      "text/plain": [
       "array([[ 0.,  0.,  0.,  0.],\n",
       "       [ 1.,  1.,  1.,  1.],\n",
       "       [ 2.,  2.,  2.,  2.],\n",
       "       [ 3.,  3.,  3.,  3.],\n",
       "       [ 4.,  4.,  4.,  4.],\n",
       "       [ 5.,  5.,  5.,  5.],\n",
       "       [ 6.,  6.,  6.,  6.],\n",
       "       [ 7.,  7.,  7.,  7.]])"
      ]
     },
     "execution_count": 44,
     "metadata": {},
     "output_type": "execute_result"
    }
   ],
   "source": [
    "arr = np.empty((8, 4))\n",
    "for i in range(8):\n",
    "    arr[i] = i\n",
    "arr"
   ]
  },
  {
   "cell_type": "code",
   "execution_count": 45,
   "metadata": {},
   "outputs": [
    {
     "data": {
      "text/plain": [
       "array([[ 4.,  4.,  4.,  4.],\n",
       "       [ 3.,  3.,  3.,  3.],\n",
       "       [ 0.,  0.,  0.,  0.],\n",
       "       [ 6.,  6.,  6.,  6.]])"
      ]
     },
     "execution_count": 45,
     "metadata": {},
     "output_type": "execute_result"
    }
   ],
   "source": [
    "arr[[4, 3, 0, 6]]"
   ]
  },
  {
   "cell_type": "code",
   "execution_count": 46,
   "metadata": {},
   "outputs": [
    {
     "data": {
      "text/plain": [
       "array([[ 5.,  5.,  5.,  5.],\n",
       "       [ 3.,  3.,  3.,  3.],\n",
       "       [ 1.,  1.,  1.,  1.]])"
      ]
     },
     "execution_count": 46,
     "metadata": {},
     "output_type": "execute_result"
    }
   ],
   "source": [
    "arr[[-3, -5, -7]]"
   ]
  },
  {
   "cell_type": "code",
   "execution_count": 47,
   "metadata": {},
   "outputs": [
    {
     "data": {
      "text/plain": [
       "array([[ 0,  1,  2,  3],\n",
       "       [ 4,  5,  6,  7],\n",
       "       [ 8,  9, 10, 11],\n",
       "       [12, 13, 14, 15],\n",
       "       [16, 17, 18, 19],\n",
       "       [20, 21, 22, 23],\n",
       "       [24, 25, 26, 27],\n",
       "       [28, 29, 30, 31]])"
      ]
     },
     "execution_count": 47,
     "metadata": {},
     "output_type": "execute_result"
    }
   ],
   "source": [
    "# more on reshape in Chapter 12\n",
    "arr = np.arange(32).reshape((8, 4))\n",
    "arr\n"
   ]
  },
  {
   "cell_type": "code",
   "execution_count": 48,
   "metadata": {},
   "outputs": [
    {
     "data": {
      "text/plain": [
       "array([ 4, 23, 29, 10])"
      ]
     },
     "execution_count": 48,
     "metadata": {},
     "output_type": "execute_result"
    }
   ],
   "source": [
    "arr[[1, 5, 7, 2], [0, 3, 1, 2]]"
   ]
  },
  {
   "cell_type": "code",
   "execution_count": 49,
   "metadata": {},
   "outputs": [
    {
     "data": {
      "text/plain": [
       "array([[ 4,  7,  5,  6],\n",
       "       [20, 23, 21, 22],\n",
       "       [28, 31, 29, 30],\n",
       "       [ 8, 11,  9, 10]])"
      ]
     },
     "execution_count": 49,
     "metadata": {},
     "output_type": "execute_result"
    }
   ],
   "source": [
    "arr[[1, 5, 7, 2]][:, [0, 3, 1, 2]]"
   ]
  },
  {
   "cell_type": "code",
   "execution_count": 50,
   "metadata": {},
   "outputs": [
    {
     "data": {
      "text/plain": [
       "array([[ 4,  7,  5,  6],\n",
       "       [20, 23, 21, 22],\n",
       "       [28, 31, 29, 30],\n",
       "       [ 8, 11,  9, 10]])"
      ]
     },
     "execution_count": 50,
     "metadata": {},
     "output_type": "execute_result"
    }
   ],
   "source": [
    "arr[np.ix_([1, 5, 7, 2], [0, 3, 1, 2])]"
   ]
  },
  {
   "cell_type": "markdown",
   "metadata": {},
   "source": [
    "### Transposing arrays and swapping axes"
   ]
  },
  {
   "cell_type": "code",
   "execution_count": 51,
   "metadata": {},
   "outputs": [
    {
     "data": {
      "text/plain": [
       "array([[ 0,  1,  2,  3,  4],\n",
       "       [ 5,  6,  7,  8,  9],\n",
       "       [10, 11, 12, 13, 14]])"
      ]
     },
     "execution_count": 51,
     "metadata": {},
     "output_type": "execute_result"
    }
   ],
   "source": [
    "arr = np.arange(15).reshape((3, 5))\n",
    "arr\n"
   ]
  },
  {
   "cell_type": "code",
   "execution_count": 52,
   "metadata": {},
   "outputs": [
    {
     "data": {
      "text/plain": [
       "array([[ 0,  5, 10],\n",
       "       [ 1,  6, 11],\n",
       "       [ 2,  7, 12],\n",
       "       [ 3,  8, 13],\n",
       "       [ 4,  9, 14]])"
      ]
     },
     "execution_count": 52,
     "metadata": {},
     "output_type": "execute_result"
    }
   ],
   "source": [
    "arr.T"
   ]
  },
  {
   "cell_type": "code",
   "execution_count": 53,
   "metadata": {},
   "outputs": [
    {
     "data": {
      "text/plain": [
       "array([[ 3.3614,  1.1129, -0.2541],\n",
       "       [ 1.1129,  1.4504, -0.9503],\n",
       "       [-0.2541, -0.9503,  3.3813]])"
      ]
     },
     "execution_count": 53,
     "metadata": {},
     "output_type": "execute_result"
    }
   ],
   "source": [
    "arr = np.random.randn(6, 3)\n",
    "np.dot(arr.T, arr)"
   ]
  },
  {
   "cell_type": "code",
   "execution_count": 54,
   "metadata": {},
   "outputs": [
    {
     "data": {
      "text/plain": [
       "array([[[ 0,  1,  2,  3],\n",
       "        [ 4,  5,  6,  7]],\n",
       "\n",
       "       [[ 8,  9, 10, 11],\n",
       "        [12, 13, 14, 15]]])"
      ]
     },
     "execution_count": 54,
     "metadata": {},
     "output_type": "execute_result"
    }
   ],
   "source": [
    "arr = np.arange(16).reshape((2, 2, 4))\n",
    "arr\n"
   ]
  },
  {
   "cell_type": "code",
   "execution_count": 55,
   "metadata": {},
   "outputs": [
    {
     "data": {
      "text/plain": [
       "array([[[ 0,  8],\n",
       "        [ 4, 12]],\n",
       "\n",
       "       [[ 1,  9],\n",
       "        [ 5, 13]],\n",
       "\n",
       "       [[ 2, 10],\n",
       "        [ 6, 14]],\n",
       "\n",
       "       [[ 3, 11],\n",
       "        [ 7, 15]]])"
      ]
     },
     "execution_count": 55,
     "metadata": {},
     "output_type": "execute_result"
    }
   ],
   "source": [
    "arr.transpose()"
   ]
  },
  {
   "cell_type": "code",
   "execution_count": 56,
   "metadata": {},
   "outputs": [
    {
     "data": {
      "text/plain": [
       "array([[[ 0,  1,  2,  3],\n",
       "        [ 8,  9, 10, 11]],\n",
       "\n",
       "       [[ 4,  5,  6,  7],\n",
       "        [12, 13, 14, 15]]])"
      ]
     },
     "execution_count": 56,
     "metadata": {},
     "output_type": "execute_result"
    }
   ],
   "source": [
    "arr.transpose((1, 0, 2))"
   ]
  },
  {
   "cell_type": "code",
   "execution_count": 57,
   "metadata": {},
   "outputs": [
    {
     "data": {
      "text/plain": [
       "array([[[ 0,  4],\n",
       "        [ 1,  5],\n",
       "        [ 2,  6],\n",
       "        [ 3,  7]],\n",
       "\n",
       "       [[ 8, 12],\n",
       "        [ 9, 13],\n",
       "        [10, 14],\n",
       "        [11, 15]]])"
      ]
     },
     "execution_count": 57,
     "metadata": {},
     "output_type": "execute_result"
    }
   ],
   "source": [
    "arr\n",
    "arr.swapaxes(1, 2)"
   ]
  },
  {
   "cell_type": "markdown",
   "metadata": {},
   "source": [
    "## Universal Functions: Fast element-wise array functions"
   ]
  },
  {
   "cell_type": "code",
   "execution_count": 58,
   "metadata": {},
   "outputs": [
    {
     "data": {
      "text/plain": [
       "array([    1.    ,     2.7183,     7.3891,    20.0855,    54.5982,\n",
       "         148.4132,   403.4288,  1096.6332,  2980.958 ,  8103.0839])"
      ]
     },
     "execution_count": 58,
     "metadata": {},
     "output_type": "execute_result"
    }
   ],
   "source": [
    "arr = np.arange(10)\n",
    "np.sqrt(arr)\n",
    "np.exp(arr)"
   ]
  },
  {
   "cell_type": "code",
   "execution_count": 59,
   "metadata": {},
   "outputs": [
    {
     "data": {
      "text/plain": [
       "array([ 0.7892,  1.3656,  0.8374, -0.0846,  0.2886, -0.076 ,  0.5354,\n",
       "       -0.4575])"
      ]
     },
     "execution_count": 59,
     "metadata": {},
     "output_type": "execute_result"
    }
   ],
   "source": [
    "x = randn(8)\n",
    "y = randn(8)\n",
    "x\n",
    "y\n",
    "np.maximum(x, y) # element-wise maximum"
   ]
  },
  {
   "cell_type": "code",
   "execution_count": 60,
   "metadata": {},
   "outputs": [
    {
     "data": {
      "text/plain": [
       "array([-8.5468, -0.3111,  0.1133, -9.0533, -2.4912,  4.5272,  8.6585])"
      ]
     },
     "execution_count": 60,
     "metadata": {},
     "output_type": "execute_result"
    }
   ],
   "source": [
    "arr = randn(7) * 5\n",
    "arr"
   ]
  },
  {
   "cell_type": "code",
   "execution_count": 61,
   "metadata": {},
   "outputs": [
    {
     "data": {
      "text/plain": [
       "(array([-0.5468, -0.3111,  0.1133, -0.0533, -0.4912,  0.5272,  0.6585]),\n",
       " array([-8., -0.,  0., -9., -2.,  4.,  8.]))"
      ]
     },
     "execution_count": 61,
     "metadata": {},
     "output_type": "execute_result"
    }
   ],
   "source": [
    "np.modf(arr)"
   ]
  },
  {
   "cell_type": "markdown",
   "metadata": {},
   "source": [
    "## Data processing using arrays"
   ]
  },
  {
   "cell_type": "code",
   "execution_count": 62,
   "metadata": {},
   "outputs": [
    {
     "data": {
      "text/plain": [
       "array([[-5.  , -5.  , -5.  , ..., -5.  , -5.  , -5.  ],\n",
       "       [-4.99, -4.99, -4.99, ..., -4.99, -4.99, -4.99],\n",
       "       [-4.98, -4.98, -4.98, ..., -4.98, -4.98, -4.98],\n",
       "       ..., \n",
       "       [ 4.97,  4.97,  4.97, ...,  4.97,  4.97,  4.97],\n",
       "       [ 4.98,  4.98,  4.98, ...,  4.98,  4.98,  4.98],\n",
       "       [ 4.99,  4.99,  4.99, ...,  4.99,  4.99,  4.99]])"
      ]
     },
     "execution_count": 62,
     "metadata": {},
     "output_type": "execute_result"
    }
   ],
   "source": [
    "points = np.arange(-5, 5, 0.01) # 1000 equally spaced points\n",
    "xs, ys = np.meshgrid(points, points)\n",
    "ys"
   ]
  },
  {
   "cell_type": "code",
   "execution_count": 63,
   "metadata": {
    "collapsed": true
   },
   "outputs": [],
   "source": [
    "from matplotlib.pyplot import imshow, title"
   ]
  },
  {
   "cell_type": "code",
   "execution_count": 64,
   "metadata": {},
   "outputs": [
    {
     "data": {
      "text/plain": [
       "<matplotlib.text.Text at 0x10e4f6490>"
      ]
     },
     "execution_count": 64,
     "metadata": {},
     "output_type": "execute_result"
    },
    {
     "data": {
      "image/png": "[encoded data removed]",
      "text/plain": [
       "<matplotlib.figure.Figure at 0x10d4a54d0>"
      ]
     },
     "metadata": {},
     "output_type": "display_data"
    }
   ],
   "source": [
    "import matplotlib.pyplot as plt\n",
    "z = np.sqrt(xs ** 2 + ys ** 2)\n",
    "z\n",
    "plt.imshow(z, cmap=plt.cm.gray); plt.colorbar()\n",
    "plt.title(\"Image plot of $\\sqrt{x^2 + y^2}$ for a grid of values\")"
   ]
  },
  {
   "cell_type": "code",
   "execution_count": 65,
   "metadata": {},
   "outputs": [
    {
     "data": {
      "text/plain": [
       "<matplotlib.figure.Figure at 0x10dce9590>"
      ]
     },
     "metadata": {},
     "output_type": "display_data"
    }
   ],
   "source": [
    "plt.draw()"
   ]
  },
  {
   "cell_type": "markdown",
   "metadata": {},
   "source": [
    "### Expressing conditional logic as array operations"
   ]
  },
  {
   "cell_type": "code",
   "execution_count": 66,
   "metadata": {
    "collapsed": true
   },
   "outputs": [],
   "source": [
    "xarr = np.array([1.1, 1.2, 1.3, 1.4, 1.5])\n",
    "yarr = np.array([2.1, 2.2, 2.3, 2.4, 2.5])\n",
    "cond = np.array([True, False, True, True, False])"
   ]
  },
  {
   "cell_type": "code",
   "execution_count": 67,
   "metadata": {},
   "outputs": [
    {
     "data": {
      "text/plain": [
       "[1.1000000000000001, 2.2000000000000002, 1.3, 1.3999999999999999, 2.5]"
      ]
     },
     "execution_count": 67,
     "metadata": {},
     "output_type": "execute_result"
    }
   ],
   "source": [
    "result = [(x if c else y)\n",
    "          for x, y, c in zip(xarr, yarr, cond)]\n",
    "result"
   ]
  },
  {
   "cell_type": "code",
   "execution_count": 68,
   "metadata": {},
   "outputs": [
    {
     "data": {
      "text/plain": [
       "array([ 1.1,  2.2,  1.3,  1.4,  2.5])"
      ]
     },
     "execution_count": 68,
     "metadata": {},
     "output_type": "execute_result"
    }
   ],
   "source": [
    "result = np.where(cond, xarr, yarr)\n",
    "result"
   ]
  },
  {
   "cell_type": "code",
   "execution_count": 69,
   "metadata": {},
   "outputs": [
    {
     "data": {
      "text/plain": [
       "array([[-1.2915,  2.    ,  2.    ,  2.    ],\n",
       "       [ 2.    , -0.5847,  2.    , -1.6896],\n",
       "       [-0.6836,  2.    , -0.0356,  2.    ],\n",
       "       [ 2.    ,  2.    ,  2.    , -0.3161]])"
      ]
     },
     "execution_count": 69,
     "metadata": {},
     "output_type": "execute_result"
    }
   ],
   "source": [
    "arr = randn(4, 4)\n",
    "arr\n",
    "np.where(arr > 0, 2, -2)\n",
    "np.where(arr > 0, 2, arr) # set only positive values to 2"
   ]
  },
  {
   "cell_type": "code",
   "execution_count": 70,
   "metadata": {
    "collapsed": true
   },
   "outputs": [],
   "source": [
    "# Not to be executed\n",
    "\n",
    "# result = []\n",
    "# for i in range(n):\n",
    "#     if cond1[i] and cond2[i]:\n",
    "#         result.append(0)\n",
    "#     elif cond1[i]:\n",
    "#         result.append(1)\n",
    "#     elif cond2[i]:\n",
    "#         result.append(2)\n",
    "#     else:\n",
    "#         result.append(3)"
   ]
  },
  {
   "cell_type": "code",
   "execution_count": 71,
   "metadata": {
    "collapsed": true
   },
   "outputs": [],
   "source": [
    "# Not to be executed\n",
    "\n",
    "# np.where(cond1 & cond2, 0,\n",
    "#          np.where(cond1, 1,\n",
    "#                   np.where(cond2, 2, 3)))"
   ]
  },
  {
   "cell_type": "code",
   "execution_count": 72,
   "metadata": {
    "collapsed": true
   },
   "outputs": [],
   "source": [
    "# Not to be executed\n",
    "\n",
    "# result = 1 * cond1 + 2 * cond2 + 3 * -(cond1 | cond2)"
   ]
  },
  {
   "cell_type": "markdown",
   "metadata": {},
   "source": [
    "### Mathematical and statistical methods"
   ]
  },
  {
   "cell_type": "code",
   "execution_count": 73,
   "metadata": {},
   "outputs": [
    {
     "data": {
      "text/plain": [
       "4.2958594156828305"
      ]
     },
     "execution_count": 73,
     "metadata": {},
     "output_type": "execute_result"
    }
   ],
   "source": [
    "arr = np.random.randn(5, 4) # normally-distributed data\n",
    "arr.mean()\n",
    "np.mean(arr)\n",
    "arr.sum()"
   ]
  },
  {
   "cell_type": "code",
   "execution_count": 74,
   "metadata": {},
   "outputs": [
    {
     "data": {
      "text/plain": [
       "array([ 0.6443, -0.2354,  0.6   , -0.0054,  0.0704])"
      ]
     },
     "execution_count": 74,
     "metadata": {},
     "output_type": "execute_result"
    }
   ],
   "source": [
    "arr.mean(axis=1)\n"
   ]
  },
  {
   "cell_type": "code",
   "execution_count": 75,
   "metadata": {},
   "outputs": [
    {
     "data": {
      "text/plain": [
       "array([-0.1979, -0.9036,  0.404 ,  4.9934])"
      ]
     },
     "execution_count": 75,
     "metadata": {},
     "output_type": "execute_result"
    }
   ],
   "source": [
    "arr.sum(0)"
   ]
  },
  {
   "cell_type": "code",
   "execution_count": 76,
   "metadata": {
    "collapsed": true
   },
   "outputs": [],
   "source": [
    "arr = np.array([[0, 1, 2], [3, 4, 5], [6, 7, 8]])\n"
   ]
  },
  {
   "cell_type": "code",
   "execution_count": 77,
   "metadata": {},
   "outputs": [
    {
     "data": {
      "text/plain": [
       "array([[ 0,  1,  2],\n",
       "       [ 3,  5,  7],\n",
       "       [ 9, 12, 15]])"
      ]
     },
     "execution_count": 77,
     "metadata": {},
     "output_type": "execute_result"
    }
   ],
   "source": [
    "arr.cumsum(0)\n"
   ]
  },
  {
   "cell_type": "code",
   "execution_count": 78,
   "metadata": {},
   "outputs": [
    {
     "data": {
      "text/plain": [
       "array([[  0,   0,   0],\n",
       "       [  3,  12,  60],\n",
       "       [  6,  42, 336]])"
      ]
     },
     "execution_count": 78,
     "metadata": {},
     "output_type": "execute_result"
    }
   ],
   "source": [
    "arr.cumprod(1)"
   ]
  },
  {
   "cell_type": "markdown",
   "metadata": {},
   "source": [
    "### Methods for boolean arrays"
   ]
  },
  {
   "cell_type": "code",
   "execution_count": 79,
   "metadata": {},
   "outputs": [
    {
     "data": {
      "text/plain": [
       "47"
      ]
     },
     "execution_count": 79,
     "metadata": {},
     "output_type": "execute_result"
    }
   ],
   "source": [
    "arr = randn(100)\n",
    "(arr > 0).sum() # Number of positive values"
   ]
  },
  {
   "cell_type": "code",
   "execution_count": 80,
   "metadata": {},
   "outputs": [
    {
     "data": {
      "text/plain": [
       "False"
      ]
     },
     "execution_count": 80,
     "metadata": {},
     "output_type": "execute_result"
    }
   ],
   "source": [
    "bools = np.array([False, False, True, False])\n",
    "bools.any()\n",
    "bools.all()"
   ]
  },
  {
   "cell_type": "markdown",
   "metadata": {},
   "source": [
    "### Sorting"
   ]
  },
  {
   "cell_type": "code",
   "execution_count": 81,
   "metadata": {},
   "outputs": [
    {
     "data": {
      "text/plain": [
       "array([-3.3376, -1.1448, -0.9372, -0.4165, -0.0654,  0.2836,  0.4339,\n",
       "        1.5116])"
      ]
     },
     "execution_count": 81,
     "metadata": {},
     "output_type": "execute_result"
    }
   ],
   "source": [
    "arr = randn(8)\n",
    "arr\n",
    "arr.sort()\n",
    "arr"
   ]
  },
  {
   "cell_type": "code",
   "execution_count": 82,
   "metadata": {},
   "outputs": [
    {
     "data": {
      "text/plain": [
       "array([[-2.0266, -0.5008, -0.2564],\n",
       "       [ 1.1689,  1.2575,  1.3311],\n",
       "       [-2.6405, -1.4184, -0.083 ],\n",
       "       [-0.9866, -0.1415,  0.3847],\n",
       "       [-1.2326,  0.454 ,  0.7452]])"
      ]
     },
     "execution_count": 82,
     "metadata": {},
     "output_type": "execute_result"
    }
   ],
   "source": [
    "arr = randn(5, 3)\n",
    "arr\n",
    "arr.sort(1)\n",
    "arr"
   ]
  },
  {
   "cell_type": "code",
   "execution_count": 83,
   "metadata": {},
   "outputs": [
    {
     "data": {
      "text/plain": [
       "array([ 0.5375, -0.5424, -0.2928, -0.1979, -2.7212, -0.8076, -0.7562,\n",
       "       -0.3711,  0.8451, -1.3947,  1.3863,  0.6804,  0.1497, -0.0795,\n",
       "       -1.2888, -0.0228, -0.5459, -0.6613, -0.2899, -1.221 ,  0.4811,\n",
       "        0.9205, -1.3128, -0.6196, -0.3463,  0.2185,  0.1648, -0.2738,\n",
       "        1.5634,  0.8761, -1.5223,  1.2251,  0.6016, -0.1004,  1.4518,\n",
       "       -0.7813,  1.9514, -1.0221,  0.2706, -0.1471, -0.1233,  2.2061,\n",
       "        0.5271, -0.8527, -0.634 ,  0.5008, -0.4755, -0.6775, -1.5977,\n",
       "       -0.4192, -0.6439, -0.1957,  0.5057,  0.0952,  0.1096,  1.4729,\n",
       "       -1.1775, -0.1833, -0.0419, -0.3633,  1.1385,  0.0462, -0.8975,\n",
       "       -1.4567,  0.4822,  1.0649,  0.2276,  1.7459, -1.331 , -0.6214,\n",
       "       -1.072 , -0.1449,  0.7865,  1.3026, -0.4106, -1.2711,  0.6629,\n",
       "        1.0718, -1.4061, -1.1721, -0.5663, -0.2939, -0.3135,  1.2545,\n",
       "        0.0317,  2.6284,  0.6699,  0.0677, -1.508 ,  1.8913,  1.1375,\n",
       "        0.3416,  0.1101, -0.706 ,  0.5329,  0.3148, -1.3578,  0.6709,\n",
       "       -0.3868,  1.0766,  0.9251, -0.1992, -2.4848,  1.1195,  0.486 ,\n",
       "       -0.0117,  1.3092,  0.6391,  0.1504,  0.6968, -0.9249,  0.1356,\n",
       "       -1.5521,  0.387 , -1.8141,  0.0443,  1.4614, -0.2749,  0.0455,\n",
       "       -0.3663, -1.2488, -0.5814, -0.4187,  0.4625, -1.148 , -0.8114,\n",
       "       -0.4193, -1.594 , -1.0779, -2.3521, -0.7736, -1.8498, -0.6253,\n",
       "       -0.3896,  0.0357, -1.1603, -0.6046, -0.1355,  0.306 ,  1.2228,\n",
       "        0.7959,  0.2962,  0.6251,  1.087 ,  0.4406, -0.4593,  0.8776,\n",
       "       -0.269 , -0.7729,  0.3127, -1.1629,  1.6049,  2.2578,  1.367 ,\n",
       "        0.8924, -2.1841,  0.7491, -1.6791, -0.4233,  0.1124,  0.0555,\n",
       "        0.0216,  0.189 ,  0.9736, -1.0952, -0.1856,  1.7024,  0.79  ,\n",
       "       -0.6124, -1.1862,  2.2565,  1.3071, -1.4242,  0.7013, -0.4965,\n",
       "       -0.1707, -0.4919, -0.2057,  0.2527, -0.3455, -0.4413, -0.5043,\n",
       "       -0.9616,  0.5761,  1.5502,  0.6835, -1.666 ,  0.9246, -0.7557,\n",
       "        1.6749,  0.0579,  1.4687,  0.1927, -1.1565, -0.0286, -1.9172,\n",
       "       -0.3134,  1.3674,  0.3646, -0.5707,  0.2825,  0.6006,  1.1222,\n",
       "        2.9269, -0.6788, -0.6005, -0.0671,  1.3579, -0.12  , -0.5531,\n",
       "        0.75  , -0.05  , -0.4181, -1.6239,  0.3406,  0.9768, -1.106 ,\n",
       "       -0.3152,  0.7534,  0.4567,  0.0858, -0.5837, -0.8655,  0.0529,\n",
       "        1.6394,  1.5395,  0.0192, -1.0454, -1.4709,  1.7827, -1.095 ,\n",
       "        0.865 , -0.6949,  1.9613, -1.1984, -0.6106, -1.2415,  0.0521,\n",
       "       -1.601 ,  1.1975,  0.3963,  0.0323,  0.5849, -1.9771, -0.9999,\n",
       "       -0.0282, -0.6824,  0.8671, -0.7653,  0.9839,  1.2187, -0.3072,\n",
       "       -0.0216, -1.1845, -1.0134,  1.2508,  0.9204, -0.109 ,  0.5562,\n",
       "       -0.528 ,  0.0649, -0.3819,  0.1068,  1.3906, -0.6818, -0.208 ,\n",
       "        0.7116,  1.3202,  0.5595,  0.5488, -2.0198, -0.3895, -0.3271,\n",
       "        0.4306, -0.9525, -0.2563,  0.7874,  0.0304,  0.3827,  0.8253,\n",
       "        0.4876,  1.0389,  0.576 , -1.7953, -1.1403, -1.5558,  0.5625,\n",
       "       -0.9857, -1.2028, -1.0132,  0.6703,  1.3171,  0.062 , -1.1071,\n",
       "        1.3785,  0.3545,  0.2771,  1.1142, -0.8834,  0.2698, -0.0608,\n",
       "       -0.5744, -0.1016,  0.0547,  1.5027, -0.5786,  1.3495,  0.4146,\n",
       "       -0.6124,  1.1305, -0.9337, -0.7873, -0.4173,  1.5765,  0.1565,\n",
       "        0.1156, -0.794 , -0.8099, -0.6984,  0.7261,  0.0638,  1.3954,\n",
       "       -0.9526, -0.8192, -0.2836,  1.1841,  0.5371, -2.0759,  0.8173,\n",
       "        1.0744,  0.5036,  0.0961,  1.7365,  0.501 , -1.7579,  1.6583,\n",
       "        0.407 ,  0.0441,  0.4491, -0.7957,  0.4803, -0.1093, -0.5624,\n",
       "        0.0323,  0.3695, -0.0194,  1.0886, -1.0624, -0.5979,  0.7414,\n",
       "        1.118 ,  1.0697, -0.6843,  0.2186,  1.4105,  0.9053,  0.172 ,\n",
       "       -0.8257, -0.5927,  0.96  , -1.5074,  1.4696,  0.1672,  0.03  ,\n",
       "       -1.452 ,  0.5633,  0.4485,  1.7836, -1.0345, -1.2142,  1.4504,\n",
       "        0.013 , -0.3198,  0.3652, -1.3114,  2.1829,  1.514 ,  0.2416,\n",
       "        0.038 , -1.0273,  1.4689,  1.2633, -0.6717, -0.1699, -1.4262,\n",
       "       -1.2398, -1.7364,  1.0841, -0.5028,  0.2084,  0.2454, -1.6293,\n",
       "       -0.6372, -0.6638, -0.3209, -0.2657, -0.878 ,  1.2354,  2.0576,\n",
       "       -0.8947, -0.2322,  0.5088,  1.5021,  0.1245, -0.159 ,  1.8878,\n",
       "        0.1431,  0.6813, -0.4618, -0.7768, -1.0404, -0.5956,  1.437 ,\n",
       "       -0.2301,  1.5828, -0.4734,  0.6293,  2.0139, -1.5809,  1.4725,\n",
       "       -0.4854, -0.6301, -0.3826, -1.3883,  1.4092,  0.4578,  0.9994,\n",
       "       -0.5576,  0.3365,  1.0672,  0.0873, -0.493 , -0.1717, -0.1603,\n",
       "        0.9743, -1.4193, -1.9112,  0.1964, -1.0185, -0.8458,  0.5103,\n",
       "        0.1351,  1.3328, -0.9757, -0.1125, -0.2492, -0.9144,  1.1646,\n",
       "        1.7965, -1.0141,  0.9333, -0.7651, -0.5128,  0.8848, -2.1772,\n",
       "        1.4404,  0.4433, -1.7627, -1.1465,  0.5264, -0.198 ,  0.3448,\n",
       "       -0.362 , -0.8309, -1.2954, -0.1507, -1.9188,  0.859 , -0.5041,\n",
       "        0.1646,  2.7847,  1.9119, -0.0147,  1.993 ,  0.7132, -1.3832,\n",
       "        0.3945, -0.1186,  0.846 ,  1.2308, -0.9499, -1.1654, -0.4141,\n",
       "       -1.1343, -0.0342,  0.4896, -2.0711,  0.9742, -0.0483,  0.6646,\n",
       "       -0.8328, -0.295 ,  0.162 , -2.2702,  0.2279, -0.6133,  0.357 ,\n",
       "        0.2977,  0.1197, -0.9487, -0.6237,  2.1443, -0.846 ,  0.0453,\n",
       "        3.3218, -0.6505,  1.1916, -0.1411, -1.1031,  1.0928,  0.0309,\n",
       "       -1.1235,  0.0993,  1.1949,  1.6441,  1.8544, -0.2281,  0.2112,\n",
       "       -0.7088, -0.4416,  0.0675, -0.4443, -0.2142,  1.6678, -0.8754,\n",
       "       -0.0721, -0.9474, -0.8626,  1.008 ,  0.9714,  0.3081,  0.7078,\n",
       "        1.0344, -1.3459, -0.1592,  0.272 , -1.0433,  0.4185, -0.5435,\n",
       "        1.3845,  0.9773,  0.2988, -0.3382,  1.0682, -0.7525,  1.0539,\n",
       "       -0.1214,  0.5165, -0.7441, -1.5567, -0.9658, -1.4903,  1.2082,\n",
       "        1.0141,  0.0324,  0.2156, -1.0222, -0.1502, -1.8432,  1.3797,\n",
       "        0.3571,  0.2717,  0.2084, -0.6598,  0.2133, -0.3341,  0.0978,\n",
       "       -0.2305, -0.2555, -0.4533, -0.119 , -1.0583,  1.187 , -0.2544,\n",
       "       -0.0592, -1.0912, -0.1825,  0.0943, -1.4997,  0.7486, -0.5517,\n",
       "       -0.0601, -1.3536, -0.7622, -1.1833,  1.8145, -0.7798, -1.6765,\n",
       "       -0.3867, -3.3319, -0.2595, -1.4879, -0.6806, -0.2144, -1.6281,\n",
       "       -1.9063,  1.8001,  0.5663,  2.0926,  0.2539, -1.0915,  0.4618,\n",
       "       -0.6859,  1.07  , -1.8125,  1.4843,  0.3025, -1.6165,  1.0474,\n",
       "       -0.1382,  0.3793,  0.8311, -2.1437, -1.0008, -0.9663, -0.8267,\n",
       "        0.9656, -1.0645,  0.452 , -0.3976,  0.6477, -0.3943,  0.6654,\n",
       "       -0.3946,  0.7869,  0.3942, -0.7653,  0.6291,  2.0284, -0.6805,\n",
       "        0.4414, -0.001 ,  0.6496, -0.7583, -1.1694,  1.4832, -0.6939,\n",
       "        1.1085, -0.9136, -0.2116, -0.6235, -2.357 ,  0.4282, -0.833 ,\n",
       "        0.4323, -0.1938, -0.5328,  1.7348, -0.7499, -0.8369,  0.1383,\n",
       "        0.6671,  1.4604, -0.8344, -1.1053, -2.6132,  0.279 ,  0.2022,\n",
       "       -1.6988, -1.7801, -0.0173, -0.4107, -0.3337,  0.7673,  0.2326,\n",
       "       -1.7048,  0.0007, -1.6733,  0.0347,  0.3127, -1.6919, -0.4408,\n",
       "       -0.2015, -1.0145,  1.7511, -0.4005,  1.1067, -1.9267,  0.7972,\n",
       "        0.5516, -0.3025,  0.2801, -0.4543,  0.0585, -0.4745, -1.466 ,\n",
       "        0.6765,  0.3246, -0.933 ,  0.5002,  0.2026, -1.1613, -1.349 ,\n",
       "        0.6124,  0.3641,  0.0852, -0.3211, -0.1651,  0.0839,  1.2383,\n",
       "        0.7893,  1.0085,  0.0082,  0.284 , -1.4176, -0.8713,  2.5977,\n",
       "       -0.6222,  1.6073,  0.1774, -0.1329,  1.7848, -0.4323, -0.3119,\n",
       "       -1.2905, -0.7357,  0.4566, -0.5305,  0.269 , -0.5942,  0.7806,\n",
       "       -0.4875, -2.9521,  0.2097,  0.7062,  0.1622, -0.8572, -1.1843,\n",
       "       -0.2903, -0.3521,  1.3748, -0.3239, -0.3384,  0.2881, -1.3029,\n",
       "       -1.5343, -1.6343, -1.7391, -0.7806,  0.2104, -0.163 , -0.0329,\n",
       "        0.2342,  1.0358,  0.4893,  2.0135,  1.7674,  0.375 , -1.9033,\n",
       "       -0.3117,  0.4931,  0.3827, -1.609 ,  1.0939, -0.3671,  0.3102,\n",
       "       -0.187 ,  1.6067,  1.0623,  0.6243, -1.6977,  0.0487,  1.3158,\n",
       "       -0.394 , -0.9089,  0.353 , -0.292 , -0.2402, -1.1551,  1.294 ,\n",
       "        0.5939, -0.6354,  0.9079, -0.2429, -0.0965, -0.6964, -0.4078,\n",
       "        1.3861, -0.5373,  1.2915, -0.4088,  0.0944, -0.787 , -0.8804,\n",
       "        1.0073, -1.4999, -0.6695,  1.0736,  0.6258,  0.3948,  1.2515,\n",
       "       -0.0865, -0.2782, -0.2253, -0.7051, -0.8582, -0.007 ,  1.819 ,\n",
       "       -1.5739,  1.4986, -1.2398, -1.897 , -1.5   ,  1.086 , -0.4716,\n",
       "       -0.641 ,  1.2114, -0.4178, -0.0173,  0.3537, -0.1185,  0.9012,\n",
       "       -1.222 ,  1.4404, -1.8076,  1.3627, -0.0146, -0.1468,  0.9576,\n",
       "       -0.3292,  0.1   ,  0.5368, -0.1863,  0.5542,  0.8689, -0.3009,\n",
       "       -0.9746, -1.6764, -0.0373, -0.0163,  1.4289, -0.4167,  0.9742,\n",
       "       -0.2096, -0.5565, -1.2613,  0.3354, -1.0224,  1.3447,  0.036 ,\n",
       "       -1.6075,  0.801 , -0.6403,  0.1465,  0.7558, -0.66  , -0.0102,\n",
       "        0.7044,  0.6794, -2.1142,  1.7434,  1.1604, -0.5615,  2.811 ,\n",
       "       -0.0536,  0.0109, -2.2941, -0.8989,  0.6462, -1.7766,  0.617 ,\n",
       "        1.4248,  0.2731,  0.3159, -0.0182,  0.9773,  0.8925,  0.3403,\n",
       "        0.5753,  0.2779,  0.6882,  0.288 ,  0.4331,  0.0619,  1.0738,\n",
       "       -0.52  , -0.1072,  0.924 , -0.4304, -0.8451, -0.1362, -0.3536,\n",
       "       -0.569 ,  0.327 ,  0.4976, -0.0427, -0.2717,  1.2631, -0.5251,\n",
       "        1.2459, -0.9787, -0.2763,  0.8078, -1.3218, -1.4014,  0.5515,\n",
       "        0.778 , -0.5408, -2.2248,  0.0381, -0.2451,  1.2201, -1.3761,\n",
       "       -0.2769, -2.671 ,  0.5911,  0.5918,  0.4599, -0.4435, -1.7182,\n",
       "        2.1628, -0.3568,  2.0008, -0.4673, -0.1275,  0.863 ,  0.2848,\n",
       "        0.3816,  1.8288, -1.6883,  1.0562, -1.1758, -0.8222,  0.7178,\n",
       "       -0.0181,  0.6914, -0.2566, -0.601 , -0.1541, -0.1162, -0.7002,\n",
       "        0.9672, -0.2638, -1.0271,  0.1479,  0.1732, -1.2254, -0.5523,\n",
       "        0.9689,  1.8081,  0.4827,  1.5631,  0.381 , -0.1484,  2.2609,\n",
       "        1.8244,  0.168 ,  0.0543, -1.2226, -1.3974, -0.3585,  0.4939,\n",
       "       -0.4275, -0.86  ,  1.2978, -1.4747, -0.1702, -0.4128, -0.8528,\n",
       "       -1.7857, -0.2935, -0.7796, -2.296 , -3.044 , -0.1766, -0.9617,\n",
       "       -0.676 , -0.0222,  0.8397,  1.3057, -0.0013, -0.481 , -1.3553,\n",
       "       -0.5154, -1.2598,  0.7389, -0.3782,  0.6931,  0.1549, -0.3089,\n",
       "       -0.397 ,  0.9049, -1.0808, -0.4213,  1.3493, -0.6841, -0.2654,\n",
       "        0.0828, -0.0384,  2.0726, -0.5346,  0.525 ,  0.1542, -0.5801,\n",
       "       -0.492 ,  0.3339,  0.8832, -0.8473,  1.0533,  2.6131])"
      ]
     },
     "execution_count": 83,
     "metadata": {},
     "output_type": "execute_result"
    }
   ],
   "source": [
    "large_arr = randn(1000)\n",
    "large_arr"
   ]
  },
  {
   "cell_type": "code",
   "execution_count": 84,
   "metadata": {},
   "outputs": [
    {
     "data": {
      "text/plain": [
       "array([-3.3319, -3.044 , -2.9521, -2.7212, -2.671 , -2.6132, -2.4848,\n",
       "       -2.357 , -2.3521, -2.296 , -2.2941, -2.2702, -2.2248, -2.1841,\n",
       "       -2.1772, -2.1437, -2.1142, -2.0759, -2.0711, -2.0198, -1.9771,\n",
       "       -1.9267, -1.9188, -1.9172, -1.9112, -1.9063, -1.9033, -1.897 ,\n",
       "       -1.8498, -1.8432, -1.8141, -1.8125, -1.8076, -1.7953, -1.7857,\n",
       "       -1.7801, -1.7766, -1.7627, -1.7579, -1.7391, -1.7364, -1.7182,\n",
       "       -1.7048, -1.6988, -1.6977, -1.6919, -1.6883, -1.6791, -1.6765,\n",
       "       -1.6764, -1.6733, -1.666 , -1.6343, -1.6293, -1.6281, -1.6239,\n",
       "       -1.6165, -1.609 , -1.6075, -1.601 , -1.5977, -1.594 , -1.5809,\n",
       "       -1.5739, -1.5567, -1.5558, -1.5521, -1.5343, -1.5223, -1.508 ,\n",
       "       -1.5074, -1.5   , -1.4999, -1.4997, -1.4903, -1.4879, -1.4747,\n",
       "       -1.4709, -1.466 , -1.4567, -1.452 , -1.4262, -1.4242, -1.4193,\n",
       "       -1.4176, -1.4061, -1.4014, -1.3974, -1.3947, -1.3883, -1.3832,\n",
       "       -1.3761, -1.3578, -1.3553, -1.3536, -1.349 , -1.3459, -1.331 ,\n",
       "       -1.3218, -1.3128, -1.3114, -1.3029, -1.2954, -1.2905, -1.2888,\n",
       "       -1.2711, -1.2613, -1.2598, -1.2488, -1.2415, -1.2398, -1.2398,\n",
       "       -1.2254, -1.2226, -1.222 , -1.221 , -1.2142, -1.2028, -1.1984,\n",
       "       -1.1862, -1.1845, -1.1843, -1.1833, -1.1775, -1.1758, -1.1721,\n",
       "       -1.1694, -1.1654, -1.1629, -1.1613, -1.1603, -1.1565, -1.1551,\n",
       "       -1.148 , -1.1465, -1.1403, -1.1343, -1.1235, -1.1071, -1.106 ,\n",
       "       -1.1053, -1.1031, -1.0952, -1.095 , -1.0915, -1.0912, -1.0808,\n",
       "       -1.0779, -1.072 , -1.0645, -1.0624, -1.0583, -1.0454, -1.0433,\n",
       "       -1.0404, -1.0345, -1.0273, -1.0271, -1.0224, -1.0222, -1.0221,\n",
       "       -1.0185, -1.0145, -1.0141, -1.0134, -1.0132, -1.0008, -0.9999,\n",
       "       -0.9857, -0.9787, -0.9757, -0.9746, -0.9663, -0.9658, -0.9617,\n",
       "       -0.9616, -0.9526, -0.9525, -0.9499, -0.9487, -0.9474, -0.9337,\n",
       "       -0.933 , -0.9249, -0.9144, -0.9136, -0.9089, -0.8989, -0.8975,\n",
       "       -0.8947, -0.8834, -0.8804, -0.878 , -0.8754, -0.8713, -0.8655,\n",
       "       -0.8626, -0.86  , -0.8582, -0.8572, -0.8528, -0.8527, -0.8473,\n",
       "       -0.846 , -0.8458, -0.8451, -0.8369, -0.8344, -0.833 , -0.8328,\n",
       "       -0.8309, -0.8267, -0.8257, -0.8222, -0.8192, -0.8114, -0.8099,\n",
       "       -0.8076, -0.7957, -0.794 , -0.7873, -0.787 , -0.7813, -0.7806,\n",
       "       -0.7798, -0.7796, -0.7768, -0.7736, -0.7729, -0.7653, -0.7653,\n",
       "       -0.7651, -0.7622, -0.7583, -0.7562, -0.7557, -0.7525, -0.7499,\n",
       "       -0.7441, -0.7357, -0.7088, -0.706 , -0.7051, -0.7002, -0.6984,\n",
       "       -0.6964, -0.6949, -0.6939, -0.6859, -0.6843, -0.6841, -0.6824,\n",
       "       -0.6818, -0.6806, -0.6805, -0.6788, -0.6775, -0.676 , -0.6717,\n",
       "       -0.6695, -0.6638, -0.6613, -0.66  , -0.6598, -0.6505, -0.6439,\n",
       "       -0.641 , -0.6403, -0.6372, -0.6354, -0.634 , -0.6301, -0.6253,\n",
       "       -0.6237, -0.6235, -0.6222, -0.6214, -0.6196, -0.6133, -0.6124,\n",
       "       -0.6124, -0.6106, -0.6046, -0.601 , -0.6005, -0.5979, -0.5956,\n",
       "       -0.5942, -0.5927, -0.5837, -0.5814, -0.5801, -0.5786, -0.5744,\n",
       "       -0.5707, -0.569 , -0.5663, -0.5624, -0.5615, -0.5576, -0.5565,\n",
       "       -0.5531, -0.5523, -0.5517, -0.5459, -0.5435, -0.5424, -0.5408,\n",
       "       -0.5373, -0.5346, -0.5328, -0.5305, -0.528 , -0.5251, -0.52  ,\n",
       "       -0.5154, -0.5128, -0.5043, -0.5041, -0.5028, -0.4965, -0.493 ,\n",
       "       -0.492 , -0.4919, -0.4875, -0.4854, -0.481 , -0.4755, -0.4745,\n",
       "       -0.4734, -0.4716, -0.4673, -0.4618, -0.4593, -0.4543, -0.4533,\n",
       "       -0.4443, -0.4435, -0.4416, -0.4413, -0.4408, -0.4323, -0.4304,\n",
       "       -0.4275, -0.4233, -0.4213, -0.4193, -0.4192, -0.4187, -0.4181,\n",
       "       -0.4178, -0.4173, -0.4167, -0.4141, -0.4128, -0.4107, -0.4106,\n",
       "       -0.4088, -0.4078, -0.4005, -0.3976, -0.397 , -0.3946, -0.3943,\n",
       "       -0.394 , -0.3896, -0.3895, -0.3868, -0.3867, -0.3826, -0.3819,\n",
       "       -0.3782, -0.3711, -0.3671, -0.3663, -0.3633, -0.362 , -0.3585,\n",
       "       -0.3568, -0.3536, -0.3521, -0.3463, -0.3455, -0.3384, -0.3382,\n",
       "       -0.3341, -0.3337, -0.3292, -0.3271, -0.3239, -0.3211, -0.3209,\n",
       "       -0.3198, -0.3152, -0.3135, -0.3134, -0.3119, -0.3117, -0.3089,\n",
       "       -0.3072, -0.3025, -0.3009, -0.295 , -0.2939, -0.2935, -0.2928,\n",
       "       -0.292 , -0.2903, -0.2899, -0.2836, -0.2782, -0.2769, -0.2763,\n",
       "       -0.2749, -0.2738, -0.2717, -0.269 , -0.2657, -0.2654, -0.2638,\n",
       "       -0.2595, -0.2566, -0.2563, -0.2555, -0.2544, -0.2492, -0.2451,\n",
       "       -0.2429, -0.2402, -0.2322, -0.2305, -0.2301, -0.2281, -0.2253,\n",
       "       -0.2144, -0.2142, -0.2116, -0.2096, -0.208 , -0.2057, -0.2015,\n",
       "       -0.1992, -0.198 , -0.1979, -0.1957, -0.1938, -0.187 , -0.1863,\n",
       "       -0.1856, -0.1833, -0.1825, -0.1766, -0.1717, -0.1707, -0.1702,\n",
       "       -0.1699, -0.1651, -0.163 , -0.1603, -0.1592, -0.159 , -0.1541,\n",
       "       -0.1507, -0.1502, -0.1484, -0.1471, -0.1468, -0.1449, -0.1411,\n",
       "       -0.1382, -0.1362, -0.1355, -0.1329, -0.1275, -0.1233, -0.1214,\n",
       "       -0.12  , -0.119 , -0.1186, -0.1185, -0.1162, -0.1125, -0.1093,\n",
       "       -0.109 , -0.1072, -0.1016, -0.1004, -0.0965, -0.0865, -0.0795,\n",
       "       -0.0721, -0.0671, -0.0608, -0.0601, -0.0592, -0.0536, -0.05  ,\n",
       "       -0.0483, -0.0427, -0.0419, -0.0384, -0.0373, -0.0342, -0.0329,\n",
       "       -0.0286, -0.0282, -0.0228, -0.0222, -0.0216, -0.0194, -0.0182,\n",
       "       -0.0181, -0.0173, -0.0173, -0.0163, -0.0147, -0.0146, -0.0117,\n",
       "       -0.0102, -0.007 , -0.0013, -0.001 ,  0.0007,  0.0082,  0.0109,\n",
       "        0.013 ,  0.0192,  0.0216,  0.03  ,  0.0304,  0.0309,  0.0317,\n",
       "        0.0323,  0.0323,  0.0324,  0.0347,  0.0357,  0.036 ,  0.038 ,\n",
       "        0.0381,  0.0441,  0.0443,  0.0453,  0.0455,  0.0462,  0.0487,\n",
       "        0.0521,  0.0529,  0.0543,  0.0547,  0.0555,  0.0579,  0.0585,\n",
       "        0.0619,  0.062 ,  0.0638,  0.0649,  0.0675,  0.0677,  0.0828,\n",
       "        0.0839,  0.0852,  0.0858,  0.0873,  0.0943,  0.0944,  0.0952,\n",
       "        0.0961,  0.0978,  0.0993,  0.1   ,  0.1068,  0.1096,  0.1101,\n",
       "        0.1124,  0.1156,  0.1197,  0.1245,  0.1351,  0.1356,  0.1383,\n",
       "        0.1431,  0.1465,  0.1479,  0.1497,  0.1504,  0.1542,  0.1549,\n",
       "        0.1565,  0.162 ,  0.1622,  0.1646,  0.1648,  0.1672,  0.168 ,\n",
       "        0.172 ,  0.1732,  0.1774,  0.189 ,  0.1927,  0.1964,  0.2022,\n",
       "        0.2026,  0.2084,  0.2084,  0.2097,  0.2104,  0.2112,  0.2133,\n",
       "        0.2156,  0.2185,  0.2186,  0.2276,  0.2279,  0.2326,  0.2342,\n",
       "        0.2416,  0.2454,  0.2527,  0.2539,  0.269 ,  0.2698,  0.2706,\n",
       "        0.2717,  0.272 ,  0.2731,  0.2771,  0.2779,  0.279 ,  0.2801,\n",
       "        0.2825,  0.284 ,  0.2848,  0.288 ,  0.2881,  0.2962,  0.2977,\n",
       "        0.2988,  0.3025,  0.306 ,  0.3081,  0.3102,  0.3127,  0.3127,\n",
       "        0.3148,  0.3159,  0.3246,  0.327 ,  0.3339,  0.3354,  0.3365,\n",
       "        0.3403,  0.3406,  0.3416,  0.3448,  0.353 ,  0.3537,  0.3545,\n",
       "        0.357 ,  0.3571,  0.3641,  0.3646,  0.3652,  0.3695,  0.375 ,\n",
       "        0.3793,  0.381 ,  0.3816,  0.3827,  0.3827,  0.387 ,  0.3942,\n",
       "        0.3945,  0.3948,  0.3963,  0.407 ,  0.4146,  0.4185,  0.4282,\n",
       "        0.4306,  0.4323,  0.4331,  0.4406,  0.4414,  0.4433,  0.4485,\n",
       "        0.4491,  0.452 ,  0.4566,  0.4567,  0.4578,  0.4599,  0.4618,\n",
       "        0.4625,  0.4803,  0.4811,  0.4822,  0.4827,  0.486 ,  0.4876,\n",
       "        0.4893,  0.4896,  0.4931,  0.4939,  0.4976,  0.5002,  0.5008,\n",
       "        0.501 ,  0.5036,  0.5057,  0.5088,  0.5103,  0.5165,  0.525 ,\n",
       "        0.5264,  0.5271,  0.5329,  0.5368,  0.5371,  0.5375,  0.5488,\n",
       "        0.5515,  0.5516,  0.5542,  0.5562,  0.5595,  0.5625,  0.5633,\n",
       "        0.5663,  0.5753,  0.576 ,  0.5761,  0.5849,  0.5911,  0.5918,\n",
       "        0.5939,  0.6006,  0.6016,  0.6124,  0.617 ,  0.6243,  0.6251,\n",
       "        0.6258,  0.6291,  0.6293,  0.6391,  0.6462,  0.6477,  0.6496,\n",
       "        0.6629,  0.6646,  0.6654,  0.6671,  0.6699,  0.6703,  0.6709,\n",
       "        0.6765,  0.6794,  0.6804,  0.6813,  0.6835,  0.6882,  0.6914,\n",
       "        0.6931,  0.6968,  0.7013,  0.7044,  0.7062,  0.7078,  0.7116,\n",
       "        0.7132,  0.7178,  0.7261,  0.7389,  0.7414,  0.7486,  0.7491,\n",
       "        0.75  ,  0.7534,  0.7558,  0.7673,  0.778 ,  0.7806,  0.7865,\n",
       "        0.7869,  0.7874,  0.7893,  0.79  ,  0.7959,  0.7972,  0.801 ,\n",
       "        0.8078,  0.8173,  0.8253,  0.8311,  0.8397,  0.8451,  0.846 ,\n",
       "        0.859 ,  0.863 ,  0.865 ,  0.8671,  0.8689,  0.8761,  0.8776,\n",
       "        0.8832,  0.8848,  0.8924,  0.8925,  0.9012,  0.9049,  0.9053,\n",
       "        0.9079,  0.9204,  0.9205,  0.924 ,  0.9246,  0.9251,  0.9333,\n",
       "        0.9576,  0.96  ,  0.9656,  0.9672,  0.9689,  0.9714,  0.9736,\n",
       "        0.9742,  0.9742,  0.9743,  0.9768,  0.9773,  0.9773,  0.9839,\n",
       "        0.9994,  1.0073,  1.008 ,  1.0085,  1.0141,  1.0344,  1.0358,\n",
       "        1.0389,  1.0474,  1.0533,  1.0539,  1.0562,  1.0623,  1.0649,\n",
       "        1.0672,  1.0682,  1.0697,  1.07  ,  1.0718,  1.0736,  1.0738,\n",
       "        1.0744,  1.0766,  1.0841,  1.086 ,  1.087 ,  1.0886,  1.0928,\n",
       "        1.0939,  1.1067,  1.1085,  1.1142,  1.118 ,  1.1195,  1.1222,\n",
       "        1.1305,  1.1375,  1.1385,  1.1604,  1.1646,  1.1841,  1.187 ,\n",
       "        1.1916,  1.1949,  1.1975,  1.2082,  1.2114,  1.2187,  1.2201,\n",
       "        1.2228,  1.2251,  1.2308,  1.2354,  1.2383,  1.2459,  1.2508,\n",
       "        1.2515,  1.2545,  1.2631,  1.2633,  1.2915,  1.294 ,  1.2978,\n",
       "        1.3026,  1.3057,  1.3071,  1.3092,  1.3158,  1.3171,  1.3202,\n",
       "        1.3328,  1.3447,  1.3493,  1.3495,  1.3579,  1.3627,  1.367 ,\n",
       "        1.3674,  1.3748,  1.3785,  1.3797,  1.3845,  1.3861,  1.3863,\n",
       "        1.3906,  1.3954,  1.4092,  1.4105,  1.4248,  1.4289,  1.437 ,\n",
       "        1.4404,  1.4404,  1.4504,  1.4518,  1.4604,  1.4614,  1.4687,\n",
       "        1.4689,  1.4696,  1.4725,  1.4729,  1.4832,  1.4843,  1.4986,\n",
       "        1.5021,  1.5027,  1.514 ,  1.5395,  1.5502,  1.5631,  1.5634,\n",
       "        1.5765,  1.5828,  1.6049,  1.6067,  1.6073,  1.6394,  1.6441,\n",
       "        1.6583,  1.6678,  1.6749,  1.7024,  1.7348,  1.7365,  1.7434,\n",
       "        1.7459,  1.7511,  1.7674,  1.7827,  1.7836,  1.7848,  1.7965,\n",
       "        1.8001,  1.8081,  1.8145,  1.819 ,  1.8244,  1.8288,  1.8544,\n",
       "        1.8878,  1.8913,  1.9119,  1.9514,  1.9613,  1.993 ,  2.0008,\n",
       "        2.0135,  2.0139,  2.0284,  2.0576,  2.0726,  2.0926,  2.1443,\n",
       "        2.1628,  2.1829,  2.2061,  2.2565,  2.2578,  2.2609,  2.5977,\n",
       "        2.6131,  2.6284,  2.7847,  2.811 ,  2.9269,  3.3218])"
      ]
     },
     "execution_count": 84,
     "metadata": {},
     "output_type": "execute_result"
    }
   ],
   "source": [
    "large_arr.sort()\n",
    "large_arr"
   ]
  },
  {
   "cell_type": "code",
   "execution_count": 85,
   "metadata": {},
   "outputs": [
    {
     "data": {
      "text/plain": [
       "-1.6733279265858603"
      ]
     },
     "execution_count": 85,
     "metadata": {},
     "output_type": "execute_result"
    }
   ],
   "source": [
    "large_arr[int(0.05 * len(large_arr))] # 5% quantile"
   ]
  },
  {
   "cell_type": "markdown",
   "metadata": {},
   "source": [
    "### Unique and other set logic"
   ]
  },
  {
   "cell_type": "code",
   "execution_count": 86,
   "metadata": {},
   "outputs": [
    {
     "data": {
      "text/plain": [
       "array([1, 2, 3, 4])"
      ]
     },
     "execution_count": 86,
     "metadata": {},
     "output_type": "execute_result"
    }
   ],
   "source": [
    "names = np.array(['Bob', 'Joe', 'Will', 'Bob', 'Will', 'Joe', 'Joe'])\n",
    "np.unique(names)\n",
    "ints = np.array([3, 3, 3, 2, 2, 1, 1, 4, 4])\n",
    "np.unique(ints)"
   ]
  },
  {
   "cell_type": "code",
   "execution_count": 87,
   "metadata": {},
   "outputs": [
    {
     "data": {
      "text/plain": [
       "['Bob', 'Joe', 'Will']"
      ]
     },
     "execution_count": 87,
     "metadata": {},
     "output_type": "execute_result"
    }
   ],
   "source": [
    "sorted(set(names))"
   ]
  },
  {
   "cell_type": "code",
   "execution_count": 88,
   "metadata": {},
   "outputs": [
    {
     "data": {
      "text/plain": [
       "array([ True, False, False,  True,  True, False,  True], dtype=bool)"
      ]
     },
     "execution_count": 88,
     "metadata": {},
     "output_type": "execute_result"
    }
   ],
   "source": [
    "values = np.array([6, 0, 0, 3, 2, 5, 6])\n",
    "np.in1d(values, [2, 3, 6])"
   ]
  },
  {
   "cell_type": "markdown",
   "metadata": {},
   "source": [
    "## File input and output with arrays"
   ]
  },
  {
   "cell_type": "markdown",
   "metadata": {},
   "source": [
    "### Storing arrays on disk in binary format"
   ]
  },
  {
   "cell_type": "code",
   "execution_count": 89,
   "metadata": {
    "collapsed": true
   },
   "outputs": [],
   "source": [
    "arr = np.arange(10)\n",
    "np.save('some_array', arr)"
   ]
  },
  {
   "cell_type": "code",
   "execution_count": 90,
   "metadata": {},
   "outputs": [
    {
     "data": {
      "text/plain": [
       "array([0, 1, 2, 3, 4, 5, 6, 7, 8, 9])"
      ]
     },
     "execution_count": 90,
     "metadata": {},
     "output_type": "execute_result"
    }
   ],
   "source": [
    "np.load('some_array.npy')"
   ]
  },
  {
   "cell_type": "code",
   "execution_count": 91,
   "metadata": {
    "collapsed": true
   },
   "outputs": [],
   "source": [
    "np.savez('array_archive.npz', a=arr, b=arr)"
   ]
  },
  {
   "cell_type": "code",
   "execution_count": 92,
   "metadata": {},
   "outputs": [
    {
     "data": {
      "text/plain": [
       "array([0, 1, 2, 3, 4, 5, 6, 7, 8, 9])"
      ]
     },
     "execution_count": 92,
     "metadata": {},
     "output_type": "execute_result"
    }
   ],
   "source": [
    "arch = np.load('array_archive.npz')\n",
    "arch['b']"
   ]
  },
  {
   "cell_type": "code",
   "execution_count": 93,
   "metadata": {
    "collapsed": true
   },
   "outputs": [],
   "source": [
    "!rm some_array.npy\n",
    "!rm array_archive.npz"
   ]
  },
  {
   "cell_type": "markdown",
   "metadata": {},
   "source": [
    "### Saving and loading text files"
   ]
  },
  {
   "cell_type": "code",
   "execution_count": 94,
   "metadata": {},
   "outputs": [
    {
     "name": "stdout",
     "output_type": "stream",
     "text": [
      "0.580052,0.186730,1.040717,1.134411\r\n",
      "0.194163,-0.636917,-0.938659,0.124094\r\n",
      "-0.126410,0.268607,-0.695724,0.047428\r\n",
      "-1.484413,0.004176,-0.744203,0.005487\r\n",
      "2.302869,0.200131,1.670238,-1.881090\r\n",
      "-0.193230,1.047233,0.482803,0.960334\r\n"
     ]
    }
   ],
   "source": [
    "!cat ch04/array_ex.txt"
   ]
  },
  {
   "cell_type": "code",
   "execution_count": 95,
   "metadata": {},
   "outputs": [
    {
     "data": {
      "text/plain": [
       "array([[ 0.5801,  0.1867,  1.0407,  1.1344],\n",
       "       [ 0.1942, -0.6369, -0.9387,  0.1241],\n",
       "       [-0.1264,  0.2686, -0.6957,  0.0474],\n",
       "       [-1.4844,  0.0042, -0.7442,  0.0055],\n",
       "       [ 2.3029,  0.2001,  1.6702, -1.8811],\n",
       "       [-0.1932,  1.0472,  0.4828,  0.9603]])"
      ]
     },
     "execution_count": 95,
     "metadata": {},
     "output_type": "execute_result"
    }
   ],
   "source": [
    "arr = np.loadtxt('ch04/array_ex.txt', delimiter=',')\n",
    "arr"
   ]
  },
  {
   "cell_type": "markdown",
   "metadata": {},
   "source": [
    "## Linear algebra"
   ]
  },
  {
   "cell_type": "code",
   "execution_count": 96,
   "metadata": {},
   "outputs": [
    {
     "data": {
      "text/plain": [
       "array([[  28.,   64.],\n",
       "       [  67.,  181.]])"
      ]
     },
     "execution_count": 96,
     "metadata": {},
     "output_type": "execute_result"
    }
   ],
   "source": [
    "x = np.array([[1., 2., 3.], [4., 5., 6.]])\n",
    "y = np.array([[6., 23.], [-1, 7], [8, 9]])\n",
    "x\n",
    "y\n",
    "x.dot(y)  # equivalently np.dot(x, y)"
   ]
  },
  {
   "cell_type": "code",
   "execution_count": 97,
   "metadata": {},
   "outputs": [
    {
     "data": {
      "text/plain": [
       "(3,)"
      ]
     },
     "execution_count": 97,
     "metadata": {},
     "output_type": "execute_result"
    }
   ],
   "source": [
    "np.ones(3).shape"
   ]
  },
  {
   "cell_type": "code",
   "execution_count": 98,
   "metadata": {},
   "outputs": [
    {
     "data": {
      "text/plain": [
       "array([  6.,  15.])"
      ]
     },
     "execution_count": 98,
     "metadata": {},
     "output_type": "execute_result"
    }
   ],
   "source": [
    "np.dot(x, np.ones(3))"
   ]
  },
  {
   "cell_type": "code",
   "execution_count": 99,
   "metadata": {
    "collapsed": true
   },
   "outputs": [],
   "source": [
    "np.random.seed(12345)"
   ]
  },
  {
   "cell_type": "code",
   "execution_count": 100,
   "metadata": {},
   "outputs": [
    {
     "data": {
      "text/plain": [
       "array([[ -6.9271,   7.389 ,   6.1227,  -7.1163,  -4.9215],\n",
       "       [  0.    ,  -3.9735,  -0.8671,   2.9747,  -5.7402],\n",
       "       [  0.    ,   0.    , -10.2681,   1.8909,   1.6079],\n",
       "       [  0.    ,   0.    ,   0.    ,  -1.2996,   3.3577],\n",
       "       [  0.    ,   0.    ,   0.    ,   0.    ,   0.5571]])"
      ]
     },
     "execution_count": 100,
     "metadata": {},
     "output_type": "execute_result"
    }
   ],
   "source": [
    "from numpy.linalg import inv, qr\n",
    "X = randn(5, 5)\n",
    "mat = X.T.dot(X)\n",
    "inv(mat)\n",
    "mat.dot(inv(mat))\n",
    "q, r = qr(mat)\n",
    "r"
   ]
  },
  {
   "cell_type": "markdown",
   "metadata": {},
   "source": [
    "## Random number generation"
   ]
  },
  {
   "cell_type": "code",
   "execution_count": 101,
   "metadata": {},
   "outputs": [
    {
     "data": {
      "text/plain": [
       "array([[ 0.1241,  0.3026,  0.5238,  0.0009],\n",
       "       [ 1.3438, -0.7135, -0.8312, -2.3702],\n",
       "       [-1.8608, -0.8608,  0.5601, -1.2659],\n",
       "       [ 0.1198, -1.0635,  0.3329, -2.3594]])"
      ]
     },
     "execution_count": 101,
     "metadata": {},
     "output_type": "execute_result"
    }
   ],
   "source": [
    "samples = np.random.normal(size=(4, 4))\n",
    "samples"
   ]
  },
  {
   "cell_type": "code",
   "execution_count": 102,
   "metadata": {},
   "outputs": [
    {
     "name": "stdout",
     "output_type": "stream",
     "text": [
      "1 loop, best of 3: 761 ms per loop\n",
      "10 loops, best of 3: 31.9 ms per loop\n"
     ]
    }
   ],
   "source": [
    "from random import normalvariate\n",
    "N = 1000000\n",
    "%timeit samples = [normalvariate(0, 1) for _ in xrange(N)]\n",
    "%timeit np.random.normal(size=N)"
   ]
  },
  {
   "cell_type": "markdown",
   "metadata": {},
   "source": [
    "## Example: Random Walks"
   ]
  },
  {
   "cell_type": "raw",
   "metadata": {},
   "source": [
    "import random\n",
    "position = 0\n",
    "walk = [position]\n",
    "steps = 1000\n",
    "for i in xrange(steps):\n",
    "    step = 1 if random.randint(0, 1) else -1\n",
    "    position += step\n",
    "    walk.append(position)"
   ]
  },
  {
   "cell_type": "code",
   "execution_count": 103,
   "metadata": {
    "collapsed": true
   },
   "outputs": [],
   "source": [
    "np.random.seed(12345)"
   ]
  },
  {
   "cell_type": "code",
   "execution_count": 104,
   "metadata": {
    "collapsed": true
   },
   "outputs": [],
   "source": [
    "nsteps = 1000\n",
    "draws = np.random.randint(0, 2, size=nsteps)\n",
    "steps = np.where(draws > 0, 1, -1)\n",
    "walk = steps.cumsum()"
   ]
  },
  {
   "cell_type": "code",
   "execution_count": 105,
   "metadata": {},
   "outputs": [
    {
     "data": {
      "text/plain": [
       "31"
      ]
     },
     "execution_count": 105,
     "metadata": {},
     "output_type": "execute_result"
    }
   ],
   "source": [
    "walk.min()\n",
    "walk.max()"
   ]
  },
  {
   "cell_type": "code",
   "execution_count": 106,
   "metadata": {},
   "outputs": [
    {
     "data": {
      "text/plain": [
       "37"
      ]
     },
     "execution_count": 106,
     "metadata": {},
     "output_type": "execute_result"
    }
   ],
   "source": [
    "(np.abs(walk) >= 10).argmax()"
   ]
  },
  {
   "cell_type": "markdown",
   "metadata": {},
   "source": [
    "### Simulating many random walks at once"
   ]
  },
  {
   "cell_type": "code",
   "execution_count": 107,
   "metadata": {},
   "outputs": [
    {
     "data": {
      "text/plain": [
       "array([[  1,   0,   1, ...,   8,   7,   8],\n",
       "       [  1,   0,  -1, ...,  34,  33,  32],\n",
       "       [  1,   0,  -1, ...,   4,   5,   4],\n",
       "       ..., \n",
       "       [  1,   2,   1, ...,  24,  25,  26],\n",
       "       [  1,   2,   3, ...,  14,  13,  14],\n",
       "       [ -1,  -2,  -3, ..., -24, -23, -22]])"
      ]
     },
     "execution_count": 107,
     "metadata": {},
     "output_type": "execute_result"
    }
   ],
   "source": [
    "nwalks = 5000\n",
    "nsteps = 1000\n",
    "draws = np.random.randint(0, 2, size=(nwalks, nsteps)) # 0 or 1\n",
    "steps = np.where(draws > 0, 1, -1)\n",
    "walks = steps.cumsum(1)\n",
    "walks"
   ]
  },
  {
   "cell_type": "code",
   "execution_count": 108,
   "metadata": {},
   "outputs": [
    {
     "data": {
      "text/plain": [
       "-133"
      ]
     },
     "execution_count": 108,
     "metadata": {},
     "output_type": "execute_result"
    }
   ],
   "source": [
    "walks.max()\n",
    "walks.min()"
   ]
  },
  {
   "cell_type": "code",
   "execution_count": 109,
   "metadata": {},
   "outputs": [
    {
     "data": {
      "text/plain": [
       "3410"
      ]
     },
     "execution_count": 109,
     "metadata": {},
     "output_type": "execute_result"
    }
   ],
   "source": [
    "hits30 = (np.abs(walks) >= 30).any(1)\n",
    "hits30\n",
    "hits30.sum() # Number that hit 30 or -30"
   ]
  },
  {
   "cell_type": "code",
   "execution_count": 110,
   "metadata": {},
   "outputs": [
    {
     "data": {
      "text/plain": [
       "498.88973607038122"
      ]
     },
     "execution_count": 110,
     "metadata": {},
     "output_type": "execute_result"
    }
   ],
   "source": [
    "crossing_times = (np.abs(walks[hits30]) >= 30).argmax(1)\n",
    "crossing_times.mean()"
   ]
  },
  {
   "cell_type": "code",
   "execution_count": 112,
   "metadata": {},
   "outputs": [
    {
     "data": {
      "text/plain": [
       "array([[-0.3268,  0.1249,  0.2698, ...,  0.2671,  0.3036,  0.0779],\n",
       "       [ 0.2366,  0.0655,  0.1936, ..., -0.251 , -0.0439,  0.0255],\n",
       "       [ 0.0384, -0.1557, -0.6306, ...,  0.1593, -0.0233, -0.0209],\n",
       "       ..., \n",
       "       [ 0.1408, -0.2996, -0.2905, ..., -0.2326,  0.2259,  0.4995],\n",
       "       [ 0.0357,  0.3178,  0.0168, ...,  0.2528, -0.0408,  0.128 ],\n",
       "       [-0.0295,  0.3166,  0.1969, ...,  0.3855,  0.2227,  0.2535]])"
      ]
     },
     "execution_count": 112,
     "metadata": {},
     "output_type": "execute_result"
    }
   ],
   "source": [
    "steps = np.random.normal(loc=0, scale=0.25,\n",
    "                         size=(nwalks, nsteps))\n",
    "steps"
   ]
  },
  {
   "cell_type": "code",
   "execution_count": null,
   "metadata": {
    "collapsed": true
   },
   "outputs": [],
   "source": []
  }
 ],
 "metadata": {
  "kernelspec": {
   "display_name": "Python 2",
   "language": "python",
   "name": "python2"
  },
  "language_info": {
   "codemirror_mode": {
    "name": "ipython",
    "version": 2
   },
   "file_extension": ".py",
   "mimetype": "text/x-python",
   "name": "python",
   "nbconvert_exporter": "python",
   "pygments_lexer": "ipython2",
   "version": "2.7.10"
  }
 },
 "nbformat": 4,
 "nbformat_minor": 1
}
